{
  "nbformat": 4,
  "nbformat_minor": 0,
  "metadata": {
    "colab": {
      "provenance": []
    },
    "kernelspec": {
      "name": "python3",
      "display_name": "Python 3"
    },
    "language_info": {
      "name": "python"
    }
  },
  "cells": [
    {
      "cell_type": "markdown",
      "source": [
        "By: Angel Fernando Garcia\n",
        "\n",
        "Universidad de Sonora"
      ],
      "metadata": {
        "id": "7R-ELTQqFiPU"
      }
    },
    {
      "cell_type": "markdown",
      "source": [
        "# **Numpy**"
      ],
      "metadata": {
        "id": "46_y9SyhrbvD"
      }
    },
    {
      "cell_type": "code",
      "execution_count": null,
      "metadata": {
        "id": "Qhsj_5iYaW2p"
      },
      "outputs": [],
      "source": [
        "import numpy as np"
      ]
    },
    {
      "cell_type": "markdown",
      "source": [
        "# **Declaración de arreglos de Numpy**"
      ],
      "metadata": {
        "id": "d3EO02YWaakj"
      }
    },
    {
      "cell_type": "code",
      "source": [
        "#Arreglo nativo\n",
        "\n",
        "arr=[1,2,3,4,5]\n",
        "print(arr)"
      ],
      "metadata": {
        "colab": {
          "base_uri": "https://localhost:8080/"
        },
        "id": "lVAI_eohaeY-",
        "outputId": "f6a63c87-b272-47a8-faaf-5a597a2fc230"
      },
      "execution_count": null,
      "outputs": [
        {
          "output_type": "stream",
          "name": "stdout",
          "text": [
            "[1, 2, 3, 4, 5]\n"
          ]
        }
      ]
    },
    {
      "cell_type": "code",
      "source": [
        "#Arreglo de Numpy\n",
        "\n",
        "arr=np.array([1,2,3,4,5])\n",
        "print(arr)"
      ],
      "metadata": {
        "outputId": "e4fdcfe6-067c-4298-e95b-89d0be9c052d",
        "colab": {
          "base_uri": "https://localhost:8080/"
        },
        "id": "gMK3YBztalX4"
      },
      "execution_count": null,
      "outputs": [
        {
          "output_type": "stream",
          "name": "stdout",
          "text": [
            "[1 2 3 4 5]\n"
          ]
        }
      ]
    },
    {
      "cell_type": "code",
      "source": [
        "#Arreglo de ceros\n",
        "\n",
        "arr=np.zeros(4)\n",
        "print(arr)"
      ],
      "metadata": {
        "colab": {
          "base_uri": "https://localhost:8080/"
        },
        "id": "8gv91sa7aj9u",
        "outputId": "532f53de-f17e-4f9e-f26b-0162b38bb964"
      },
      "execution_count": null,
      "outputs": [
        {
          "output_type": "stream",
          "name": "stdout",
          "text": [
            "[0. 0. 0. 0.]\n"
          ]
        }
      ]
    },
    {
      "cell_type": "code",
      "source": [
        "#Arreglo de unos\n",
        "\n",
        "arr=np.ones(4)\n",
        "print(arr)"
      ],
      "metadata": {
        "colab": {
          "base_uri": "https://localhost:8080/"
        },
        "id": "NlWaUu-ZcKgw",
        "outputId": "f7d29dca-61f2-4121-8c93-873a62dba129"
      },
      "execution_count": null,
      "outputs": [
        {
          "output_type": "stream",
          "name": "stdout",
          "text": [
            "[1. 1. 1. 1.]\n"
          ]
        }
      ]
    },
    {
      "cell_type": "code",
      "source": [
        "#Arreglo de números repetidos\n",
        "\n",
        "arr=np.repeat(3,4)\n",
        "print(arr)"
      ],
      "metadata": {
        "colab": {
          "base_uri": "https://localhost:8080/"
        },
        "id": "wSFv4FCO-Cib",
        "outputId": "910545d9-60c9-4aa7-ff3e-a5f4a12f2010"
      },
      "execution_count": null,
      "outputs": [
        {
          "output_type": "stream",
          "name": "stdout",
          "text": [
            "[3 3 3 3]\n"
          ]
        }
      ]
    },
    {
      "cell_type": "code",
      "source": [
        "#Arreglo de enteros ordenados\n",
        "\n",
        "arr=np.arange(4)\n",
        "print(arr)"
      ],
      "metadata": {
        "colab": {
          "base_uri": "https://localhost:8080/"
        },
        "outputId": "948b7cdc-2eb6-4258-f00d-e9772cfc957d",
        "id": "csrwKoZRcifk"
      },
      "execution_count": null,
      "outputs": [
        {
          "output_type": "stream",
          "name": "stdout",
          "text": [
            "[0 1 2 3]\n"
          ]
        }
      ]
    },
    {
      "cell_type": "code",
      "source": [
        "arr=np.arange(2,6)\n",
        "print(arr)"
      ],
      "metadata": {
        "colab": {
          "base_uri": "https://localhost:8080/"
        },
        "id": "Y7wJ1YiIcO88",
        "outputId": "7852007c-3317-44a1-e40b-d116d017e94f"
      },
      "execution_count": null,
      "outputs": [
        {
          "output_type": "stream",
          "name": "stdout",
          "text": [
            "[2 3 4 5]\n"
          ]
        }
      ]
    },
    {
      "cell_type": "code",
      "source": [
        "arr=np.arange(-5,4)\n",
        "print(arr)\n"
      ],
      "metadata": {
        "colab": {
          "base_uri": "https://localhost:8080/"
        },
        "id": "-vTGhwWYcoP7",
        "outputId": "06078b30-8e53-4433-f31f-cbd60cba10d6"
      },
      "execution_count": null,
      "outputs": [
        {
          "output_type": "stream",
          "name": "stdout",
          "text": [
            "[-5 -4 -3 -2 -1  0  1  2  3]\n"
          ]
        }
      ]
    },
    {
      "cell_type": "markdown",
      "source": [
        "# **Arreglo en un intervalo**"
      ],
      "metadata": {
        "id": "7wszH2nCmihw"
      }
    },
    {
      "cell_type": "code",
      "source": [
        "#Intervalo (0,5)\n",
        "\n",
        "arr=np.linspace(0,5)\n",
        "print(arr)"
      ],
      "metadata": {
        "colab": {
          "base_uri": "https://localhost:8080/"
        },
        "id": "7Aion4jpc8Tg",
        "outputId": "42c0b412-f51a-4d9d-e64d-6fb324c55d29"
      },
      "execution_count": null,
      "outputs": [
        {
          "output_type": "stream",
          "name": "stdout",
          "text": [
            "[0.         0.10204082 0.20408163 0.30612245 0.40816327 0.51020408\n",
            " 0.6122449  0.71428571 0.81632653 0.91836735 1.02040816 1.12244898\n",
            " 1.2244898  1.32653061 1.42857143 1.53061224 1.63265306 1.73469388\n",
            " 1.83673469 1.93877551 2.04081633 2.14285714 2.24489796 2.34693878\n",
            " 2.44897959 2.55102041 2.65306122 2.75510204 2.85714286 2.95918367\n",
            " 3.06122449 3.16326531 3.26530612 3.36734694 3.46938776 3.57142857\n",
            " 3.67346939 3.7755102  3.87755102 3.97959184 4.08163265 4.18367347\n",
            " 4.28571429 4.3877551  4.48979592 4.59183673 4.69387755 4.79591837\n",
            " 4.89795918 5.        ]\n"
          ]
        }
      ]
    },
    {
      "cell_type": "code",
      "source": [
        "#Intervalo (-3,2)\n",
        "\n",
        "arr=np.linspace(-3,2)\n",
        "print(arr)"
      ],
      "metadata": {
        "colab": {
          "base_uri": "https://localhost:8080/"
        },
        "outputId": "8ad24034-593f-41d4-8c67-ad7d2c648a42",
        "id": "KSC4zXMvgV_4"
      },
      "execution_count": null,
      "outputs": [
        {
          "output_type": "stream",
          "name": "stdout",
          "text": [
            "[-3.         -2.89795918 -2.79591837 -2.69387755 -2.59183673 -2.48979592\n",
            " -2.3877551  -2.28571429 -2.18367347 -2.08163265 -1.97959184 -1.87755102\n",
            " -1.7755102  -1.67346939 -1.57142857 -1.46938776 -1.36734694 -1.26530612\n",
            " -1.16326531 -1.06122449 -0.95918367 -0.85714286 -0.75510204 -0.65306122\n",
            " -0.55102041 -0.44897959 -0.34693878 -0.24489796 -0.14285714 -0.04081633\n",
            "  0.06122449  0.16326531  0.26530612  0.36734694  0.46938776  0.57142857\n",
            "  0.67346939  0.7755102   0.87755102  0.97959184  1.08163265  1.18367347\n",
            "  1.28571429  1.3877551   1.48979592  1.59183673  1.69387755  1.79591837\n",
            "  1.89795918  2.        ]\n"
          ]
        }
      ]
    },
    {
      "cell_type": "code",
      "source": [
        "#Intervalo (0,10), unicamente con 10 valores\n",
        "\n",
        "arr=np.linspace(0,10,10)\n",
        "print(arr)"
      ],
      "metadata": {
        "colab": {
          "base_uri": "https://localhost:8080/"
        },
        "id": "9kwQKcZ5gNT6",
        "outputId": "963dd08b-ca00-413b-c9cb-6c12f54b656c"
      },
      "execution_count": null,
      "outputs": [
        {
          "output_type": "stream",
          "name": "stdout",
          "text": [
            "[ 0.          1.11111111  2.22222222  3.33333333  4.44444444  5.55555556\n",
            "  6.66666667  7.77777778  8.88888889 10.        ]\n"
          ]
        }
      ]
    },
    {
      "cell_type": "code",
      "source": [
        "#Intervalo (0,10), con 20 valores\n",
        "\n",
        "arr=np.linspace(0,10,20)\n",
        "print(arr)"
      ],
      "metadata": {
        "colab": {
          "base_uri": "https://localhost:8080/"
        },
        "outputId": "165851db-daea-4d22-c070-24a0f53d6e77",
        "id": "viLp4a4zinlP"
      },
      "execution_count": null,
      "outputs": [
        {
          "output_type": "stream",
          "name": "stdout",
          "text": [
            "[ 0.          0.52631579  1.05263158  1.57894737  2.10526316  2.63157895\n",
            "  3.15789474  3.68421053  4.21052632  4.73684211  5.26315789  5.78947368\n",
            "  6.31578947  6.84210526  7.36842105  7.89473684  8.42105263  8.94736842\n",
            "  9.47368421 10.        ]\n"
          ]
        }
      ]
    },
    {
      "cell_type": "markdown",
      "source": [
        "# **Arreglo aleatorio de distribución uniforme**"
      ],
      "metadata": {
        "id": "DAKTlVkomo-w"
      }
    },
    {
      "cell_type": "code",
      "source": [
        "#Valor escalar\n",
        "\n",
        "arr=np.random.rand()\n",
        "\n",
        "print(arr)"
      ],
      "metadata": {
        "colab": {
          "base_uri": "https://localhost:8080/"
        },
        "id": "BTNo33KWiiB4",
        "outputId": "8b3e3572-dbca-4f88-cfe0-8064019687bd"
      },
      "execution_count": null,
      "outputs": [
        {
          "output_type": "stream",
          "name": "stdout",
          "text": [
            "0.1874483827648029\n"
          ]
        }
      ]
    },
    {
      "cell_type": "code",
      "source": [
        "#Arreglo de 3 elementos\n",
        "\n",
        "arr=np.random.rand(3)\n",
        "\n",
        "print(arr)"
      ],
      "metadata": {
        "colab": {
          "base_uri": "https://localhost:8080/"
        },
        "id": "lmLoPHvQm3iD",
        "outputId": "38fe818d-b544-40a2-f652-c77eb0336e68"
      },
      "execution_count": null,
      "outputs": [
        {
          "output_type": "stream",
          "name": "stdout",
          "text": [
            "[0.19052287 0.5621536  0.72543429]\n"
          ]
        }
      ]
    },
    {
      "cell_type": "code",
      "source": [
        "#Arreglo de 10 elementos\n",
        "\n",
        "arr=np.random.rand(10)\n",
        "\n",
        "print(arr)"
      ],
      "metadata": {
        "colab": {
          "base_uri": "https://localhost:8080/"
        },
        "outputId": "56fd8a9e-5069-4118-beeb-47248c753eac",
        "id": "zkrEESAOnBH_"
      },
      "execution_count": null,
      "outputs": [
        {
          "output_type": "stream",
          "name": "stdout",
          "text": [
            "[0.41151385 0.60158979 0.72088477 0.48522045 0.24490373 0.52413958\n",
            " 0.1878553  0.61949406 0.98916514 0.24954596]\n"
          ]
        }
      ]
    },
    {
      "cell_type": "markdown",
      "source": [
        "# **Arreglo aleatorio de distribución normal**"
      ],
      "metadata": {
        "id": "oj4mOdBvnE4V"
      }
    },
    {
      "cell_type": "code",
      "source": [
        "#Valor escalar\n",
        "\n",
        "arr=np.random.randn()\n",
        "\n",
        "print(arr)"
      ],
      "metadata": {
        "colab": {
          "base_uri": "https://localhost:8080/"
        },
        "outputId": "6daf506a-a53e-4105-c642-3964a8b15e4b",
        "id": "K3JlHp6SnE4X"
      },
      "execution_count": null,
      "outputs": [
        {
          "output_type": "stream",
          "name": "stdout",
          "text": [
            "0.15904473630204913\n"
          ]
        }
      ]
    },
    {
      "cell_type": "code",
      "source": [
        "#Arreglo de 3 elementos\n",
        "\n",
        "arr=np.random.randn(3)\n",
        "\n",
        "print(arr)"
      ],
      "metadata": {
        "colab": {
          "base_uri": "https://localhost:8080/"
        },
        "outputId": "b4dadf19-74ef-47d3-aba1-44fc8ba9501a",
        "id": "NMdZW5mKnE4Z"
      },
      "execution_count": null,
      "outputs": [
        {
          "output_type": "stream",
          "name": "stdout",
          "text": [
            "[ 0.43753027  1.02548889 -0.12279483]\n"
          ]
        }
      ]
    },
    {
      "cell_type": "code",
      "source": [
        "#Arreglo de 10 elementos\n",
        "\n",
        "arr=np.random.randn(10)\n",
        "\n",
        "print(arr)"
      ],
      "metadata": {
        "colab": {
          "base_uri": "https://localhost:8080/"
        },
        "outputId": "c2781ad9-46c7-4856-9e3a-e582331c39fb",
        "id": "yEGrbW5PnE4b"
      },
      "execution_count": null,
      "outputs": [
        {
          "output_type": "stream",
          "name": "stdout",
          "text": [
            "[ 0.36761347  1.73386275 -0.13862053  0.48761449  0.24736816 -0.94477551\n",
            "  0.55345995  1.07947087  1.33442162  1.51441762]\n"
          ]
        }
      ]
    },
    {
      "cell_type": "markdown",
      "source": [
        "# **Arreglo de valores aleatorios enteros**"
      ],
      "metadata": {
        "id": "iZhyeB63ovbU"
      }
    },
    {
      "cell_type": "code",
      "source": [
        "#Valor en el intervalo (0,10)\n",
        "\n",
        "arr=np.random.randint(0,10)\n",
        "\n",
        "print(arr)"
      ],
      "metadata": {
        "colab": {
          "base_uri": "https://localhost:8080/"
        },
        "outputId": "0786b8b5-fad2-4c9d-e283-1b85e6241a8e",
        "id": "FiAUCDIco-yM"
      },
      "execution_count": null,
      "outputs": [
        {
          "output_type": "stream",
          "name": "stdout",
          "text": [
            "8\n"
          ]
        }
      ]
    },
    {
      "cell_type": "code",
      "source": [
        "#Arreglo de 3 en el intervalo (0,10)\n",
        "\n",
        "arr=np.random.randint(0,10,3)\n",
        "\n",
        "print(arr)"
      ],
      "metadata": {
        "colab": {
          "base_uri": "https://localhost:8080/"
        },
        "outputId": "d0ce3b40-ac28-4649-ae3e-e12ff3dbfd99",
        "id": "oSEtfTk2pMiA"
      },
      "execution_count": null,
      "outputs": [
        {
          "output_type": "stream",
          "name": "stdout",
          "text": [
            "[1 9 7]\n"
          ]
        }
      ]
    },
    {
      "cell_type": "code",
      "source": [
        "#Arreglo de 10 elementos en el intervalo (-10,10)\n",
        "\n",
        "arr=np.random.randint(-10,10,10)\n",
        "\n",
        "print(arr)"
      ],
      "metadata": {
        "colab": {
          "base_uri": "https://localhost:8080/"
        },
        "outputId": "a0927140-47a2-4d31-bb2e-30c682b8abab",
        "id": "9qCB0oeio-yP"
      },
      "execution_count": null,
      "outputs": [
        {
          "output_type": "stream",
          "name": "stdout",
          "text": [
            "[ 8 -6  6 -9 -3  4 -9  7  7 -2]\n"
          ]
        }
      ]
    },
    {
      "cell_type": "markdown",
      "source": [
        "# **Información del arreglo**"
      ],
      "metadata": {
        "id": "RKGLuxiO9BSr"
      }
    },
    {
      "cell_type": "code",
      "source": [
        "#Tamaño del arreglo\n",
        "\n",
        "arr=np.array([1,2,3,4])\n",
        "\n",
        "print(len(arr))"
      ],
      "metadata": {
        "colab": {
          "base_uri": "https://localhost:8080/"
        },
        "id": "q7ZD3etD9GXr",
        "outputId": "5f2d3bf4-2b17-4902-de88-9a89ac273cca"
      },
      "execution_count": null,
      "outputs": [
        {
          "output_type": "stream",
          "name": "stdout",
          "text": [
            "4\n"
          ]
        }
      ]
    },
    {
      "cell_type": "code",
      "source": [
        "#Valores únicos\n",
        "\n",
        "arr=np.array([0,2,1,0,4,0])\n",
        "\n",
        "print(np.unique(arr))"
      ],
      "metadata": {
        "colab": {
          "base_uri": "https://localhost:8080/"
        },
        "id": "_nhMsV5o9SNL",
        "outputId": "23967f6b-417a-4c49-ce02-c31b7bbea98b"
      },
      "execution_count": null,
      "outputs": [
        {
          "output_type": "stream",
          "name": "stdout",
          "text": [
            "[0 1 2 4]\n"
          ]
        }
      ]
    },
    {
      "cell_type": "code",
      "source": [
        "#Frecuencia de repetición\n",
        "\n",
        "arr=np.array([0,2,1,0,4,0])\n",
        "\n",
        "print(np.unique(arr,return_counts=True))"
      ],
      "metadata": {
        "colab": {
          "base_uri": "https://localhost:8080/"
        },
        "outputId": "e9435b92-b427-4b06-df6f-06321405f950",
        "id": "M16wc65j_P70"
      },
      "execution_count": null,
      "outputs": [
        {
          "output_type": "stream",
          "name": "stdout",
          "text": [
            "(array([0, 1, 2, 4]), array([3, 1, 1, 1]))\n"
          ]
        }
      ]
    },
    {
      "cell_type": "markdown",
      "source": [
        "# **Modificación de arreglos**"
      ],
      "metadata": {
        "id": "sow8iZ7Z2dmf"
      }
    },
    {
      "cell_type": "code",
      "source": [
        "#Declaración\n",
        "\n",
        "arr=np.array([1,4,2,8,9,0,5])\n",
        "\n",
        "print(arr)"
      ],
      "metadata": {
        "colab": {
          "base_uri": "https://localhost:8080/"
        },
        "id": "VQVREQrByNMK",
        "outputId": "b078d494-d4f1-49c8-834b-80db9d88f8ea"
      },
      "execution_count": null,
      "outputs": [
        {
          "output_type": "stream",
          "name": "stdout",
          "text": [
            "[1 4 2 8 9 0 5]\n"
          ]
        }
      ]
    },
    {
      "cell_type": "code",
      "source": [
        "#Añadir elemento\n",
        "\n",
        "arr=np.array([1,4,2,8,9,0,5])\n",
        "\n",
        "print(arr)\n",
        "\n",
        "arr=np.append(arr,7)\n",
        "\n",
        "print(arr)"
      ],
      "metadata": {
        "colab": {
          "base_uri": "https://localhost:8080/"
        },
        "id": "O312oiye2-x0",
        "outputId": "9c5dc6fc-a9b1-4a14-f58a-9c80079314df"
      },
      "execution_count": null,
      "outputs": [
        {
          "output_type": "stream",
          "name": "stdout",
          "text": [
            "[1 4 2 8 9 0 5]\n",
            "[1 4 2 8 9 0 5 7]\n"
          ]
        }
      ]
    },
    {
      "cell_type": "code",
      "source": [
        "#Eliminar elemento\n",
        "\n",
        "arr=np.array([1,4,2,8,9,0,5])\n",
        "\n",
        "print(arr)\n",
        "\n",
        "arr=np.delete(arr,4)\n",
        "\n",
        "print(arr)"
      ],
      "metadata": {
        "colab": {
          "base_uri": "https://localhost:8080/"
        },
        "outputId": "5f01ff81-a74a-4499-b1ef-0ec6c4527c2f",
        "id": "qthcPelB4J_d"
      },
      "execution_count": null,
      "outputs": [
        {
          "output_type": "stream",
          "name": "stdout",
          "text": [
            "[1 4 2 8 9 0 5]\n",
            "[1 4 2 8 0 5]\n"
          ]
        }
      ]
    },
    {
      "cell_type": "code",
      "source": [
        "#Insertar elemento\n",
        "\n",
        "arr=np.array([1,4,2,8,9,0,5])\n",
        "\n",
        "print(arr)\n",
        "\n",
        "arr=np.insert(arr,2,10)\n",
        "\n",
        "print(arr)"
      ],
      "metadata": {
        "colab": {
          "base_uri": "https://localhost:8080/"
        },
        "outputId": "e599d290-7877-4830-9026-1340d2a09585",
        "id": "CW71qcfr7g1e"
      },
      "execution_count": null,
      "outputs": [
        {
          "output_type": "stream",
          "name": "stdout",
          "text": [
            "[1 4 2 8 9 0 5]\n",
            "[ 1  4 10  2  8  9  0  5]\n"
          ]
        }
      ]
    },
    {
      "cell_type": "code",
      "source": [
        "#Cambiar valor\n",
        "\n",
        "arr=np.array([1,4,2,8,9,0,5])\n",
        "\n",
        "print(arr)\n",
        "\n",
        "arr[3]=7\n",
        "\n",
        "print(arr)"
      ],
      "metadata": {
        "colab": {
          "base_uri": "https://localhost:8080/"
        },
        "id": "T5NeAcP03GEi",
        "outputId": "b8895de9-21b7-438e-8399-83bc7d4ce782"
      },
      "execution_count": null,
      "outputs": [
        {
          "output_type": "stream",
          "name": "stdout",
          "text": [
            "[1 4 2 8 9 0 5]\n",
            "[1 4 2 7 9 0 5]\n"
          ]
        }
      ]
    },
    {
      "cell_type": "code",
      "source": [
        "#Modificar intervalo acotado\n",
        "\n",
        "arr=np.array([1,4,2,8,9,0,5])\n",
        "\n",
        "print(arr)\n",
        "\n",
        "arr[2:5]=7\n",
        "\n",
        "print(arr)"
      ],
      "metadata": {
        "colab": {
          "base_uri": "https://localhost:8080/"
        },
        "id": "j0QcUSsM5YSM",
        "outputId": "1f912c9b-965c-495f-a28d-210084f70b31"
      },
      "execution_count": null,
      "outputs": [
        {
          "output_type": "stream",
          "name": "stdout",
          "text": [
            "[1 4 2 8 9 0 5]\n",
            "[1 4 7 7 7 0 5]\n"
          ]
        }
      ]
    },
    {
      "cell_type": "code",
      "source": [
        "#Modificar intervalo acotado\n",
        "\n",
        "arr=np.array([1,4,2,8,9,0,5])\n",
        "\n",
        "print(arr)\n",
        "\n",
        "arr[4:6]=22\n",
        "\n",
        "print(arr)"
      ],
      "metadata": {
        "id": "uXjaMm9M5w_n"
      },
      "execution_count": null,
      "outputs": []
    },
    {
      "cell_type": "code",
      "source": [
        "#Modificar intervalo abierto\n",
        "\n",
        "arr=np.array([1,4,2,8,9,0,5])\n",
        "\n",
        "print(arr)\n",
        "\n",
        "arr[:4]=11\n",
        "\n",
        "print(arr)"
      ],
      "metadata": {
        "colab": {
          "base_uri": "https://localhost:8080/"
        },
        "outputId": "3e413ffc-6f8b-47b2-c816-d6a157cf3f27",
        "id": "h3frRVCr55E5"
      },
      "execution_count": null,
      "outputs": [
        {
          "output_type": "stream",
          "name": "stdout",
          "text": [
            "[1 4 2 8 9 0 5]\n",
            "[11 11 11 11  9  0  5]\n"
          ]
        }
      ]
    },
    {
      "cell_type": "code",
      "source": [
        "#Modificar intervalo abierto\n",
        "\n",
        "arr=np.array([1,4,2,8,9,0,5])\n",
        "\n",
        "print(arr)\n",
        "\n",
        "arr[4:]=13\n",
        "\n",
        "print(arr)"
      ],
      "metadata": {
        "colab": {
          "base_uri": "https://localhost:8080/"
        },
        "outputId": "27b8fb6d-5a4d-444b-c613-0b497d60e207",
        "id": "hiQfTcWf6Kgl"
      },
      "execution_count": null,
      "outputs": [
        {
          "output_type": "stream",
          "name": "stdout",
          "text": [
            "[1 4 2 8 9 0 5]\n",
            "[ 1  4  2  8 13 13 13]\n"
          ]
        }
      ]
    },
    {
      "cell_type": "code",
      "source": [
        "#Modificar todo el arreglo\n",
        "\n",
        "arr=np.array([1,4,2,8,9,0,5])\n",
        "\n",
        "print(arr)\n",
        "\n",
        "arr[:]=16\n",
        "\n",
        "print(arr)"
      ],
      "metadata": {
        "colab": {
          "base_uri": "https://localhost:8080/"
        },
        "outputId": "51ac1a22-d5a5-4fa9-85b5-1d08335dd071",
        "id": "zsMN2fxw6P9v"
      },
      "execution_count": null,
      "outputs": [
        {
          "output_type": "stream",
          "name": "stdout",
          "text": [
            "[1 4 2 8 9 0 5]\n",
            "[16 16 16 16 16 16 16]\n"
          ]
        }
      ]
    },
    {
      "cell_type": "code",
      "source": [
        "#Modificar intervalo acotado\n",
        "\n",
        "arr=np.array([1,4,2,8,9,0,5])\n",
        "\n",
        "print(arr)\n",
        "\n",
        "arr[4:6]=[11,33]\n",
        "\n",
        "print(arr)"
      ],
      "metadata": {
        "colab": {
          "base_uri": "https://localhost:8080/"
        },
        "outputId": "d9226034-49e2-45ba-b829-37e6ae9a5baa",
        "id": "k7hBgzuL6Zh5"
      },
      "execution_count": null,
      "outputs": [
        {
          "output_type": "stream",
          "name": "stdout",
          "text": [
            "[1 4 2 8 9 0 5]\n",
            "[ 1  4  2  8 11 33  5]\n"
          ]
        }
      ]
    },
    {
      "cell_type": "code",
      "source": [
        "#Modificar intervalo acotado\n",
        "\n",
        "arr=np.array([1,4,2,8,9,0,5])\n",
        "\n",
        "print(arr)\n",
        "\n",
        "arr[2:5]=[99,11,22]\n",
        "\n",
        "print(arr)"
      ],
      "metadata": {
        "colab": {
          "base_uri": "https://localhost:8080/"
        },
        "outputId": "2eb56ceb-5d88-4198-e59a-66d1ef36c5da",
        "id": "TowZwqJf65kr"
      },
      "execution_count": null,
      "outputs": [
        {
          "output_type": "stream",
          "name": "stdout",
          "text": [
            "[1 4 2 8 9 0 5]\n",
            "[ 1  4 99 11 22  0  5]\n"
          ]
        }
      ]
    },
    {
      "cell_type": "markdown",
      "source": [
        "# **Operación de arreglos con escalares**"
      ],
      "metadata": {
        "id": "nOfuQPs8Tq5k"
      }
    },
    {
      "cell_type": "code",
      "source": [
        "arr=np.arange(9)\n",
        "print(arr)"
      ],
      "metadata": {
        "colab": {
          "base_uri": "https://localhost:8080/"
        },
        "id": "x72t6UQA5jJ5",
        "outputId": "807be3fe-c205-47e1-89a9-07b2c1c56ca5"
      },
      "execution_count": null,
      "outputs": [
        {
          "output_type": "stream",
          "name": "stdout",
          "text": [
            "[0 1 2 3 4 5 6 7 8]\n"
          ]
        }
      ]
    },
    {
      "cell_type": "code",
      "source": [
        "#Suma con escalar\n",
        "\n",
        "print(arr+2)"
      ],
      "metadata": {
        "colab": {
          "base_uri": "https://localhost:8080/"
        },
        "id": "t_mxBUWAT22V",
        "outputId": "10960a30-0b96-463c-d292-3f93b3f33ea5"
      },
      "execution_count": null,
      "outputs": [
        {
          "output_type": "stream",
          "name": "stdout",
          "text": [
            "[ 2  3  4  5  6  7  8  9 10]\n"
          ]
        }
      ]
    },
    {
      "cell_type": "code",
      "source": [
        "#Resta con escalar\n",
        "\n",
        "print(arr-2)"
      ],
      "metadata": {
        "colab": {
          "base_uri": "https://localhost:8080/"
        },
        "outputId": "d2d34d26-ec42-4add-eb21-36f4c1fcceb1",
        "id": "hjnPlQEjUNVU"
      },
      "execution_count": null,
      "outputs": [
        {
          "output_type": "stream",
          "name": "stdout",
          "text": [
            "[-2 -1  0  1  2  3  4  5  6]\n"
          ]
        }
      ]
    },
    {
      "cell_type": "code",
      "source": [
        "#Multiplicación con escalar\n",
        "\n",
        "print(arr*2)"
      ],
      "metadata": {
        "colab": {
          "base_uri": "https://localhost:8080/"
        },
        "outputId": "9b0510f0-b0fd-4b2a-e22d-105aac168fa8",
        "id": "4wMW7TQBUS4d"
      },
      "execution_count": null,
      "outputs": [
        {
          "output_type": "stream",
          "name": "stdout",
          "text": [
            "[ 0  2  4  6  8 10 12 14 16]\n"
          ]
        }
      ]
    },
    {
      "cell_type": "code",
      "source": [
        "#División con escalar\n",
        "\n",
        "print(arr/2)"
      ],
      "metadata": {
        "colab": {
          "base_uri": "https://localhost:8080/"
        },
        "outputId": "ce6a5b65-b77a-4693-8812-aade8cd75b10",
        "id": "iOVTuxL2UWh0"
      },
      "execution_count": null,
      "outputs": [
        {
          "output_type": "stream",
          "name": "stdout",
          "text": [
            "[0.  0.5 1.  1.5 2.  2.5 3.  3.5 4. ]\n"
          ]
        }
      ]
    },
    {
      "cell_type": "code",
      "source": [
        "#Exponenciación con escalar\n",
        "\n",
        "print(arr**2)"
      ],
      "metadata": {
        "colab": {
          "base_uri": "https://localhost:8080/"
        },
        "outputId": "05ce4c23-8ae5-4fa0-93be-4f345d54c623",
        "id": "SR7G8g-6UWvD"
      },
      "execution_count": null,
      "outputs": [
        {
          "output_type": "stream",
          "name": "stdout",
          "text": [
            "[ 0  1  4  9 16 25 36 49 64]\n"
          ]
        }
      ]
    },
    {
      "cell_type": "code",
      "source": [
        "#Residuo con escalar\n",
        "\n",
        "print(arr%2)"
      ],
      "metadata": {
        "colab": {
          "base_uri": "https://localhost:8080/"
        },
        "outputId": "8ed9dff0-8dc2-4c5b-c481-27fb51f09379",
        "id": "591vb-eEUW3x"
      },
      "execution_count": null,
      "outputs": [
        {
          "output_type": "stream",
          "name": "stdout",
          "text": [
            "[0 1 0 1 0 1 0 1 0]\n"
          ]
        }
      ]
    },
    {
      "cell_type": "markdown",
      "source": [
        "# **Operaciones entre arreglos**"
      ],
      "metadata": {
        "id": "4UGGlAYKV59p"
      }
    },
    {
      "cell_type": "code",
      "source": [
        "a=np.arange(3)\n",
        "print(a)"
      ],
      "metadata": {
        "colab": {
          "base_uri": "https://localhost:8080/"
        },
        "id": "lIoZVnNHWFA2",
        "outputId": "437c4c42-4d9b-4b4f-d9b2-1730892f9b97"
      },
      "execution_count": null,
      "outputs": [
        {
          "output_type": "stream",
          "name": "stdout",
          "text": [
            "[0 1 2]\n"
          ]
        }
      ]
    },
    {
      "cell_type": "code",
      "source": [
        "b=np.arange(3,6)\n",
        "print(b)"
      ],
      "metadata": {
        "colab": {
          "base_uri": "https://localhost:8080/"
        },
        "id": "biBcWT6aWL6w",
        "outputId": "9026c732-8df7-4959-ede5-29576c23e534"
      },
      "execution_count": null,
      "outputs": [
        {
          "output_type": "stream",
          "name": "stdout",
          "text": [
            "[3 4 5]\n"
          ]
        }
      ]
    },
    {
      "cell_type": "code",
      "source": [
        "#Suma de arreglos\n",
        "\n",
        "print(a+b)"
      ],
      "metadata": {
        "colab": {
          "base_uri": "https://localhost:8080/"
        },
        "id": "74FNdF4KT8k6",
        "outputId": "7eeb62de-c65d-46f4-c3f2-c7b0ac1de1ed"
      },
      "execution_count": null,
      "outputs": [
        {
          "output_type": "stream",
          "name": "stdout",
          "text": [
            "[3 5 7]\n"
          ]
        }
      ]
    },
    {
      "cell_type": "code",
      "source": [
        "#Resta de arreglos\n",
        "\n",
        "print(a-b)"
      ],
      "metadata": {
        "colab": {
          "base_uri": "https://localhost:8080/"
        },
        "outputId": "a41183a4-085a-48aa-d68b-af35b72fac94",
        "id": "EiBtieSSWaHP"
      },
      "execution_count": null,
      "outputs": [
        {
          "output_type": "stream",
          "name": "stdout",
          "text": [
            "[-3 -3 -3]\n"
          ]
        }
      ]
    },
    {
      "cell_type": "code",
      "source": [
        "#Multiplicación de arreglos\n",
        "\n",
        "print(a*b)"
      ],
      "metadata": {
        "colab": {
          "base_uri": "https://localhost:8080/"
        },
        "outputId": "d4b69909-c39f-490f-b042-c12ac2a718c5",
        "id": "gwb-ZjECWaLO"
      },
      "execution_count": null,
      "outputs": [
        {
          "output_type": "stream",
          "name": "stdout",
          "text": [
            "[ 0  4 10]\n"
          ]
        }
      ]
    },
    {
      "cell_type": "code",
      "source": [
        "#División de arreglos\n",
        "\n",
        "print(a/b)"
      ],
      "metadata": {
        "colab": {
          "base_uri": "https://localhost:8080/"
        },
        "outputId": "652320b1-f43c-49a7-920e-281929a89e4f",
        "id": "VMd89nt5WaOC"
      },
      "execution_count": null,
      "outputs": [
        {
          "output_type": "stream",
          "name": "stdout",
          "text": [
            "[0.   0.25 0.4 ]\n"
          ]
        }
      ]
    },
    {
      "cell_type": "code",
      "source": [
        "#Expenciación de arreglos\n",
        "\n",
        "print(a**b)"
      ],
      "metadata": {
        "colab": {
          "base_uri": "https://localhost:8080/"
        },
        "outputId": "d00b0646-d18e-49ed-f8a9-3e11c278ca58",
        "id": "AaglGUmvWaQ3"
      },
      "execution_count": null,
      "outputs": [
        {
          "output_type": "stream",
          "name": "stdout",
          "text": [
            "[ 0  1 32]\n"
          ]
        }
      ]
    },
    {
      "cell_type": "code",
      "source": [
        "#Residuo de arreglos\n",
        "\n",
        "print(a%b)"
      ],
      "metadata": {
        "colab": {
          "base_uri": "https://localhost:8080/"
        },
        "outputId": "44d79a61-3ce0-4ba3-ea83-e7acd0e0f244",
        "id": "MPnBkkpYWaT2"
      },
      "execution_count": null,
      "outputs": [
        {
          "output_type": "stream",
          "name": "stdout",
          "text": [
            "[0 1 2]\n"
          ]
        }
      ]
    },
    {
      "cell_type": "code",
      "source": [
        "#Producto punto\n",
        "\n",
        "print(np.dot(a,b))"
      ],
      "metadata": {
        "colab": {
          "base_uri": "https://localhost:8080/"
        },
        "id": "mREOWrMJW4dp",
        "outputId": "7bd6f30e-79c6-4811-f5d3-7a950bdb8966"
      },
      "execution_count": null,
      "outputs": [
        {
          "output_type": "stream",
          "name": "stdout",
          "text": [
            "14\n"
          ]
        }
      ]
    },
    {
      "cell_type": "code",
      "source": [
        "#Producto vectorial\n",
        "\n",
        "print(np.cross(a,b))"
      ],
      "metadata": {
        "colab": {
          "base_uri": "https://localhost:8080/"
        },
        "outputId": "3d6f2dbd-f31e-4dcc-fae9-64c455ea97d6",
        "id": "K3WzeA5nXeb6"
      },
      "execution_count": null,
      "outputs": [
        {
          "output_type": "stream",
          "name": "stdout",
          "text": [
            "[-3  6 -3]\n"
          ]
        }
      ]
    },
    {
      "cell_type": "markdown",
      "source": [
        "# **Operación de arreglos**\n",
        "\n"
      ],
      "metadata": {
        "id": "jQsWoEITY1dF"
      }
    },
    {
      "cell_type": "code",
      "source": [
        "arr=np.arange(9)\n",
        "print(arr)"
      ],
      "metadata": {
        "colab": {
          "base_uri": "https://localhost:8080/"
        },
        "outputId": "eab57f09-c406-41ed-cdeb-a264a9ec564d",
        "id": "JzW2J7MfZvLF"
      },
      "execution_count": null,
      "outputs": [
        {
          "output_type": "stream",
          "name": "stdout",
          "text": [
            "[0 1 2 3 4 5 6 7 8]\n"
          ]
        }
      ]
    },
    {
      "cell_type": "code",
      "source": [
        "#Suma de los elementos\n",
        "\n",
        "print(np.sum(arr))"
      ],
      "metadata": {
        "colab": {
          "base_uri": "https://localhost:8080/"
        },
        "id": "8vIk69xPY2B_",
        "outputId": "56f9c886-c52c-44ed-d15f-822cdd193ce2"
      },
      "execution_count": null,
      "outputs": [
        {
          "output_type": "stream",
          "name": "stdout",
          "text": [
            "36\n"
          ]
        }
      ]
    },
    {
      "cell_type": "code",
      "source": [
        "#Media de los elementos\n",
        "\n",
        "print(np.mean(arr))"
      ],
      "metadata": {
        "colab": {
          "base_uri": "https://localhost:8080/"
        },
        "outputId": "3352b317-851a-42d6-e9d0-573ed99a49f9",
        "id": "JeurGPt7ZBvd"
      },
      "execution_count": null,
      "outputs": [
        {
          "output_type": "stream",
          "name": "stdout",
          "text": [
            "4.0\n"
          ]
        }
      ]
    },
    {
      "cell_type": "code",
      "source": [
        "#Varianza de los elementos\n",
        "\n",
        "print(np.var(arr))"
      ],
      "metadata": {
        "colab": {
          "base_uri": "https://localhost:8080/"
        },
        "outputId": "ca32ee45-880f-41d1-f4ee-e3ecb4362512",
        "id": "qnQp2ruJZB1x"
      },
      "execution_count": null,
      "outputs": [
        {
          "output_type": "stream",
          "name": "stdout",
          "text": [
            "6.666666666666667\n"
          ]
        }
      ]
    },
    {
      "cell_type": "code",
      "source": [
        "#Densviación estandar de los elementos\n",
        "\n",
        "print(np.std(arr))"
      ],
      "metadata": {
        "colab": {
          "base_uri": "https://localhost:8080/"
        },
        "outputId": "530c0a51-29d2-4da4-a005-242031eaff76",
        "id": "2exJV8YtZCQQ"
      },
      "execution_count": null,
      "outputs": [
        {
          "output_type": "stream",
          "name": "stdout",
          "text": [
            "2.581988897471611\n"
          ]
        }
      ]
    },
    {
      "cell_type": "markdown",
      "source": [
        "# **Operaciones lógicas**"
      ],
      "metadata": {
        "id": "3gl7pdXpaC49"
      }
    },
    {
      "cell_type": "code",
      "source": [
        "#Arreglo\n",
        "\n",
        "print(arr)"
      ],
      "metadata": {
        "colab": {
          "base_uri": "https://localhost:8080/"
        },
        "id": "yuZYb44Eg0MW",
        "outputId": "d8a6fcc5-720e-414e-8950-ee1ed1c1cc3d"
      },
      "execution_count": null,
      "outputs": [
        {
          "output_type": "stream",
          "name": "stdout",
          "text": [
            "[0 1 2 3 4 5 6 7 8]\n"
          ]
        }
      ]
    },
    {
      "cell_type": "code",
      "source": [
        "#Elemntos iguales a 1\n",
        "\n",
        "print(arr)\n",
        "print(arr==1)"
      ],
      "metadata": {
        "colab": {
          "base_uri": "https://localhost:8080/"
        },
        "id": "77-zk47-ckhb",
        "outputId": "72825000-f6ac-4666-e34d-b339f5d2a7f7"
      },
      "execution_count": null,
      "outputs": [
        {
          "output_type": "stream",
          "name": "stdout",
          "text": [
            "[0 1 2 3 4 5 6 7 8]\n",
            "[False  True False False False False False False False]\n"
          ]
        }
      ]
    },
    {
      "cell_type": "code",
      "source": [
        "#Extayendo elemntos iguales a 1\n",
        "\n",
        "print(arr)\n",
        "print(arr[arr==1])"
      ],
      "metadata": {
        "colab": {
          "base_uri": "https://localhost:8080/"
        },
        "outputId": "615875fe-6a71-43fa-b501-dd7d52920b97",
        "id": "DhX9Morbgd1V"
      },
      "execution_count": null,
      "outputs": [
        {
          "output_type": "stream",
          "name": "stdout",
          "text": [
            "[0 1 2 3 4 5 6 7 8]\n",
            "[1]\n"
          ]
        }
      ]
    },
    {
      "cell_type": "code",
      "source": [
        "#Elemntos mayores que 5\n",
        "\n",
        "print(arr)\n",
        "print(arr>5)"
      ],
      "metadata": {
        "colab": {
          "base_uri": "https://localhost:8080/"
        },
        "outputId": "ced2dc4f-cefb-4702-8b1e-104e9592fef7",
        "id": "M4pNw6zhglH_"
      },
      "execution_count": null,
      "outputs": [
        {
          "output_type": "stream",
          "name": "stdout",
          "text": [
            "[0 1 2 3 4 5 6 7 8]\n",
            "[False False False False False False  True  True  True]\n"
          ]
        }
      ]
    },
    {
      "cell_type": "code",
      "source": [
        "#Extrayendo elemntos mayores que 5\n",
        "\n",
        "print(arr)\n",
        "print(arr[arr>5])"
      ],
      "metadata": {
        "colab": {
          "base_uri": "https://localhost:8080/"
        },
        "outputId": "1663c5c3-d07b-456d-814f-531cd3e53d7f",
        "id": "nZLfgt3_grjI"
      },
      "execution_count": null,
      "outputs": [
        {
          "output_type": "stream",
          "name": "stdout",
          "text": [
            "[0 1 2 3 4 5 6 7 8]\n",
            "[6 7 8]\n"
          ]
        }
      ]
    },
    {
      "cell_type": "code",
      "source": [
        "#Elemntos elemntos pares\n",
        "\n",
        "print(arr)\n",
        "print(arr%2==0)"
      ],
      "metadata": {
        "colab": {
          "base_uri": "https://localhost:8080/"
        },
        "outputId": "6b26c523-6cdf-4a86-e6df-72d3e6ee6f5e",
        "id": "Gbnk_BYqhqIo"
      },
      "execution_count": null,
      "outputs": [
        {
          "output_type": "stream",
          "name": "stdout",
          "text": [
            "[0 1 2 3 4 5 6 7 8]\n",
            "[ True False  True False  True False  True False  True]\n"
          ]
        }
      ]
    },
    {
      "cell_type": "code",
      "source": [
        "#Extrayendo elemntos pares\n",
        "\n",
        "print(arr)\n",
        "print(arr[arr%2==0])"
      ],
      "metadata": {
        "colab": {
          "base_uri": "https://localhost:8080/"
        },
        "outputId": "2016fe0c-a741-47a5-a366-235e7327de2d",
        "id": "lc9ZyCruhf_C"
      },
      "execution_count": null,
      "outputs": [
        {
          "output_type": "stream",
          "name": "stdout",
          "text": [
            "[0 1 2 3 4 5 6 7 8]\n",
            "[0 2 4 6 8]\n"
          ]
        }
      ]
    },
    {
      "cell_type": "code",
      "source": [
        "#Elemntos elemntos impares\n",
        "\n",
        "print(arr)\n",
        "print(arr%2!=0)"
      ],
      "metadata": {
        "colab": {
          "base_uri": "https://localhost:8080/"
        },
        "outputId": "11d102d9-4ee9-4f17-9e7b-7a635320edbd",
        "id": "ExuIX1j9h1gF"
      },
      "execution_count": null,
      "outputs": [
        {
          "output_type": "stream",
          "name": "stdout",
          "text": [
            "[0 1 2 3 4 5 6 7 8]\n",
            "[False  True False  True False  True False  True False]\n"
          ]
        }
      ]
    },
    {
      "cell_type": "code",
      "source": [
        "#Extrayendo elemntos impares\n",
        "\n",
        "print(arr)\n",
        "print(arr[arr%2!=0])"
      ],
      "metadata": {
        "colab": {
          "base_uri": "https://localhost:8080/"
        },
        "outputId": "0f62ed37-6023-4317-fbe2-479e5476aac7",
        "id": "yoTuhrnwh1gH"
      },
      "execution_count": null,
      "outputs": [
        {
          "output_type": "stream",
          "name": "stdout",
          "text": [
            "[0 1 2 3 4 5 6 7 8]\n",
            "[1 3 5 7]\n"
          ]
        }
      ]
    },
    {
      "cell_type": "markdown",
      "source": [
        "# **Evaluación de arreglos en funciones**"
      ],
      "metadata": {
        "id": "-yRh7dz0ifSt"
      }
    },
    {
      "cell_type": "code",
      "source": [
        "x=np.linspace(1,10,10)\n",
        "print(x)"
      ],
      "metadata": {
        "colab": {
          "base_uri": "https://localhost:8080/"
        },
        "id": "cMQ6SxCwgWe7",
        "outputId": "6c704309-4a81-4797-b88e-abc352fcf303"
      },
      "execution_count": null,
      "outputs": [
        {
          "output_type": "stream",
          "name": "stdout",
          "text": [
            "[ 1.  2.  3.  4.  5.  6.  7.  8.  9. 10.]\n"
          ]
        }
      ]
    },
    {
      "cell_type": "code",
      "source": [
        "print(np.cos(x))"
      ],
      "metadata": {
        "colab": {
          "base_uri": "https://localhost:8080/"
        },
        "id": "EcyO4EXUipLi",
        "outputId": "d676f7fb-f441-4330-df3f-b9d53c0de5d2"
      },
      "execution_count": null,
      "outputs": [
        {
          "output_type": "stream",
          "name": "stdout",
          "text": [
            "[ 0.54030231 -0.41614684 -0.9899925  -0.65364362  0.28366219  0.96017029\n",
            "  0.75390225 -0.14550003 -0.91113026 -0.83907153]\n"
          ]
        }
      ]
    },
    {
      "cell_type": "code",
      "source": [
        "def func(t):\n",
        "  return 2*t"
      ],
      "metadata": {
        "id": "Wcs9kLUUiuqA"
      },
      "execution_count": null,
      "outputs": []
    },
    {
      "cell_type": "code",
      "source": [
        "func(x)"
      ],
      "metadata": {
        "colab": {
          "base_uri": "https://localhost:8080/"
        },
        "id": "Zg-nBkg0i1iz",
        "outputId": "0e4773b4-d0a9-408a-e979-91c22dbcbcb5"
      },
      "execution_count": null,
      "outputs": [
        {
          "output_type": "execute_result",
          "data": {
            "text/plain": [
              "array([ 2.,  4.,  6.,  8., 10., 12., 14., 16., 18., 20.])"
            ]
          },
          "metadata": {},
          "execution_count": 80
        }
      ]
    },
    {
      "cell_type": "markdown",
      "source": [
        "# **Matrices**"
      ],
      "metadata": {
        "id": "Z1raPRQCjBu-"
      }
    },
    {
      "cell_type": "code",
      "source": [
        "#Matriz de numpy\n",
        "\n",
        "M=np.array([[1,2],[3,4]])\n",
        "\n",
        "print(M)"
      ],
      "metadata": {
        "colab": {
          "base_uri": "https://localhost:8080/"
        },
        "id": "oktyGJUwnzS2",
        "outputId": "4d45a97b-88d8-40be-db50-819c4f5bf41a"
      },
      "execution_count": null,
      "outputs": [
        {
          "output_type": "stream",
          "name": "stdout",
          "text": [
            "[[1 2]\n",
            " [3 4]]\n"
          ]
        }
      ]
    },
    {
      "cell_type": "code",
      "source": [
        "#Matriz de ceros\n",
        "\n",
        "M=np.zeros((4,5))\n",
        "\n",
        "print(M)"
      ],
      "metadata": {
        "colab": {
          "base_uri": "https://localhost:8080/"
        },
        "id": "WwZkgzM9i3HU",
        "outputId": "3728ca6a-cfea-4777-82f3-1bf8c6c77d5d"
      },
      "execution_count": null,
      "outputs": [
        {
          "output_type": "stream",
          "name": "stdout",
          "text": [
            "[[0. 0. 0. 0. 0.]\n",
            " [0. 0. 0. 0. 0.]\n",
            " [0. 0. 0. 0. 0.]\n",
            " [0. 0. 0. 0. 0.]]\n"
          ]
        }
      ]
    },
    {
      "cell_type": "code",
      "source": [
        "#Matriz de unos\n",
        "\n",
        "M=np.ones((4,5))\n",
        "\n",
        "print(M)"
      ],
      "metadata": {
        "colab": {
          "base_uri": "https://localhost:8080/"
        },
        "outputId": "fb979459-f4f9-4a52-ae4f-1674f787651b",
        "id": "HkZjRAAEpiP-"
      },
      "execution_count": null,
      "outputs": [
        {
          "output_type": "stream",
          "name": "stdout",
          "text": [
            "[[1. 1. 1. 1. 1.]\n",
            " [1. 1. 1. 1. 1.]\n",
            " [1. 1. 1. 1. 1.]\n",
            " [1. 1. 1. 1. 1.]]\n"
          ]
        }
      ]
    },
    {
      "cell_type": "code",
      "source": [
        "#Matriz identidad\n",
        "\n",
        "M=np.eye(5)\n",
        "\n",
        "print(M)"
      ],
      "metadata": {
        "colab": {
          "base_uri": "https://localhost:8080/"
        },
        "outputId": "6e14c968-cd18-4667-e156-cd891f13be69",
        "id": "sMtBwIZwoMhq"
      },
      "execution_count": null,
      "outputs": [
        {
          "output_type": "stream",
          "name": "stdout",
          "text": [
            "[[1. 0. 0. 0. 0.]\n",
            " [0. 1. 0. 0. 0.]\n",
            " [0. 0. 1. 0. 0.]\n",
            " [0. 0. 0. 1. 0.]\n",
            " [0. 0. 0. 0. 1.]]\n"
          ]
        }
      ]
    },
    {
      "cell_type": "markdown",
      "source": [
        "# **Determinante**"
      ],
      "metadata": {
        "id": "-8StdkAYqRrw"
      }
    },
    {
      "cell_type": "code",
      "source": [
        "#Matriz de numpy\n",
        "\n",
        "M=np.array([[1,2],[3,4]])\n",
        "\n",
        "print(np.linalg.det(M))"
      ],
      "metadata": {
        "colab": {
          "base_uri": "https://localhost:8080/"
        },
        "outputId": "8c5ce6b7-02a2-4967-a94e-d8af356c913c",
        "id": "K7ZPUSm8qc0m"
      },
      "execution_count": null,
      "outputs": [
        {
          "output_type": "stream",
          "name": "stdout",
          "text": [
            "-2.0000000000000004\n"
          ]
        }
      ]
    },
    {
      "cell_type": "code",
      "source": [
        "#Matriz de ceros\n",
        "\n",
        "M=np.zeros((4,4))\n",
        "\n",
        "print(np.linalg.det(M))"
      ],
      "metadata": {
        "colab": {
          "base_uri": "https://localhost:8080/"
        },
        "outputId": "419861b3-3321-43f3-89b0-443fc1583223",
        "id": "uuUT_R3Fqc0n"
      },
      "execution_count": null,
      "outputs": [
        {
          "output_type": "stream",
          "name": "stdout",
          "text": [
            "0.0\n"
          ]
        }
      ]
    },
    {
      "cell_type": "code",
      "source": [
        "#Matriz de unos\n",
        "\n",
        "M=np.ones((4,4))\n",
        "\n",
        "print(np.linalg.det(M))"
      ],
      "metadata": {
        "colab": {
          "base_uri": "https://localhost:8080/"
        },
        "outputId": "a86d5860-c44a-41d8-8325-cb5acd72d9c1",
        "id": "AfnMdN0fqc0n"
      },
      "execution_count": null,
      "outputs": [
        {
          "output_type": "stream",
          "name": "stdout",
          "text": [
            "0.0\n"
          ]
        }
      ]
    },
    {
      "cell_type": "code",
      "source": [
        "#Matriz identidad\n",
        "\n",
        "M=np.eye(5)\n",
        "\n",
        "print(np.linalg.det(M))"
      ],
      "metadata": {
        "colab": {
          "base_uri": "https://localhost:8080/"
        },
        "outputId": "320c0135-d8a9-4593-97b0-26fd25f81303",
        "id": "CNVzgxY7qc0n"
      },
      "execution_count": null,
      "outputs": [
        {
          "output_type": "stream",
          "name": "stdout",
          "text": [
            "1.0\n"
          ]
        }
      ]
    },
    {
      "cell_type": "markdown",
      "source": [
        "# **Solución de sistemas de ecuaciones lineales**"
      ],
      "metadata": {
        "id": "Nznrw_b3r2Aq"
      }
    },
    {
      "cell_type": "markdown",
      "source": [
        "$2x+4y+9z=10$\n",
        "\n",
        "$x+5y-2z=3$\n",
        "\n",
        "$8x-3y+z=2$"
      ],
      "metadata": {
        "id": "Q-I-vDLz0FAu"
      }
    },
    {
      "cell_type": "code",
      "source": [
        "#Matriz de coeficientes\n",
        "M=np.array([[2,4,9],[1,5,-2],[8,-3,1]])\n",
        "\n",
        "#Vector de soluciones\n",
        "b=np.array([10,3,2])"
      ],
      "metadata": {
        "id": "8P8YeLw8qVe9"
      },
      "execution_count": null,
      "outputs": []
    },
    {
      "cell_type": "code",
      "source": [
        "#Solución del sistema\n",
        "x=np.linalg.solve(M,b)\n",
        "\n",
        "print(x)"
      ],
      "metadata": {
        "colab": {
          "base_uri": "https://localhost:8080/"
        },
        "id": "qX7TX5ck1LtR",
        "outputId": "388cc890-9b19-466f-d886-9887e214cba8"
      },
      "execution_count": null,
      "outputs": [
        {
          "output_type": "stream",
          "name": "stdout",
          "text": [
            "[0.45733042 0.77461707 0.66520788]\n"
          ]
        }
      ]
    },
    {
      "cell_type": "code",
      "source": [
        "s=x*M"
      ],
      "metadata": {
        "id": "rfBfu6U57Rmh"
      },
      "execution_count": null,
      "outputs": []
    },
    {
      "cell_type": "code",
      "source": [
        "print(f'[{s[0].sum()} , {s[1].sum()} , {s[2].sum()}]')"
      ],
      "metadata": {
        "colab": {
          "base_uri": "https://localhost:8080/"
        },
        "id": "ra6ezCR67S2U",
        "outputId": "c33729ad-cd71-4e2f-a5f9-d7c67058cb35"
      },
      "execution_count": null,
      "outputs": [
        {
          "output_type": "stream",
          "name": "stdout",
          "text": [
            "[10.0 , 2.999999999999999 , 2.0]\n"
          ]
        }
      ]
    },
    {
      "cell_type": "markdown",
      "source": [
        "# **Matplotlib**"
      ],
      "metadata": {
        "id": "03APR3Bu_OMR"
      }
    },
    {
      "cell_type": "code",
      "source": [
        "import matplotlib.pyplot as plt"
      ],
      "metadata": {
        "id": "2wFwS0Lt7mCP"
      },
      "execution_count": null,
      "outputs": []
    },
    {
      "cell_type": "markdown",
      "source": [
        "# **Gráficas**"
      ],
      "metadata": {
        "id": "6tWe3nbuCYBX"
      }
    },
    {
      "cell_type": "code",
      "source": [
        "#Puntos\n",
        "\n",
        "x=np.array([3,2,9,1])\n",
        "y=np.array([1,2,6,4])\n",
        "plt.scatter(x,y)"
      ],
      "metadata": {
        "colab": {
          "base_uri": "https://localhost:8080/",
          "height": 282
        },
        "id": "wXqe-ccy_NKk",
        "outputId": "0508ffa0-467a-49f9-c963-e8184932ba70"
      },
      "execution_count": null,
      "outputs": [
        {
          "output_type": "execute_result",
          "data": {
            "text/plain": [
              "<matplotlib.collections.PathCollection at 0x7f799e73fa00>"
            ]
          },
          "metadata": {},
          "execution_count": 95
        },
        {
          "output_type": "display_data",
          "data": {
            "text/plain": [
              "<Figure size 432x288 with 1 Axes>"
            ],
            "image/png": "[encoded data removed]"
          },
          "metadata": {
            "needs_background": "light"
          }
        }
      ]
    },
    {
      "cell_type": "code",
      "source": [
        "#Curva\n",
        "\n",
        "x=np.array([3,2,9,1])\n",
        "y=np.array([1,2,6,4])\n",
        "plt.plot(x,y)"
      ],
      "metadata": {
        "colab": {
          "base_uri": "https://localhost:8080/",
          "height": 282
        },
        "id": "S_cBDLyPCeLz",
        "outputId": "bcabf2c8-a6a6-4535-d1ce-0856efb78e5f"
      },
      "execution_count": null,
      "outputs": [
        {
          "output_type": "execute_result",
          "data": {
            "text/plain": [
              "[<matplotlib.lines.Line2D at 0x7f799e218730>]"
            ]
          },
          "metadata": {},
          "execution_count": 96
        },
        {
          "output_type": "display_data",
          "data": {
            "text/plain": [
              "<Figure size 432x288 with 1 Axes>"
            ],
            "image/png": "[encoded data removed]"
          },
          "metadata": {
            "needs_background": "light"
          }
        }
      ]
    },
    {
      "cell_type": "code",
      "source": [
        "#Cambio de color\n",
        "\n",
        "x=np.array([3,2,9,1])\n",
        "y=np.array([1,2,6,4])\n",
        "plt.plot(x,y,color='r')"
      ],
      "metadata": {
        "colab": {
          "base_uri": "https://localhost:8080/",
          "height": 282
        },
        "id": "wcX-h6cjGbvh",
        "outputId": "6085bb76-712e-4ae9-827b-e28c76bd56bf"
      },
      "execution_count": null,
      "outputs": [
        {
          "output_type": "execute_result",
          "data": {
            "text/plain": [
              "[<matplotlib.lines.Line2D at 0x7f799e204040>]"
            ]
          },
          "metadata": {},
          "execution_count": 97
        },
        {
          "output_type": "display_data",
          "data": {
            "text/plain": [
              "<Figure size 432x288 with 1 Axes>"
            ],
            "image/png": "[encoded data removed]"
          },
          "metadata": {
            "needs_background": "light"
          }
        }
      ]
    },
    {
      "cell_type": "code",
      "source": [
        "#Cambio de color\n",
        "\n",
        "x=np.array([3,2,9,1])\n",
        "y=np.array([1,2,6,4])\n",
        "plt.plot(x,y,color='g')"
      ],
      "metadata": {
        "colab": {
          "base_uri": "https://localhost:8080/",
          "height": 282
        },
        "outputId": "6a3f851e-5d97-4f98-9cb2-a28344f32cf4",
        "id": "wJ1Fsc43WEjU"
      },
      "execution_count": null,
      "outputs": [
        {
          "output_type": "execute_result",
          "data": {
            "text/plain": [
              "[<matplotlib.lines.Line2D at 0x7f799e15f130>]"
            ]
          },
          "metadata": {},
          "execution_count": 98
        },
        {
          "output_type": "display_data",
          "data": {
            "text/plain": [
              "<Figure size 432x288 with 1 Axes>"
            ],
            "image/png": "[encoded data removed]"
          },
          "metadata": {
            "needs_background": "light"
          }
        }
      ]
    },
    {
      "cell_type": "code",
      "source": [
        "#Cuadricula\n",
        "\n",
        "x=np.array([3,2,9,1])\n",
        "y=np.array([1,2,6,4])\n",
        "plt.plot(x,y)\n",
        "plt.grid()"
      ],
      "metadata": {
        "colab": {
          "base_uri": "https://localhost:8080/",
          "height": 265
        },
        "id": "RKWYunkhCl3h",
        "outputId": "584b11a8-7e5e-421a-b926-829466df28e6"
      },
      "execution_count": null,
      "outputs": [
        {
          "output_type": "display_data",
          "data": {
            "text/plain": [
              "<Figure size 432x288 with 1 Axes>"
            ],
            "image/png": "[encoded data removed]"
          },
          "metadata": {
            "needs_background": "light"
          }
        }
      ]
    },
    {
      "cell_type": "code",
      "source": [
        "#Titulos y Etiquetas\n",
        "\n",
        "x=np.array([3,2,9,1])\n",
        "y=np.array([1,2,6,4])\n",
        "plt.plot(x,y,label='curva')\n",
        "plt.title('Titulo')\n",
        "plt.legend()"
      ],
      "metadata": {
        "colab": {
          "base_uri": "https://localhost:8080/",
          "height": 298
        },
        "outputId": "e00f076b-42d7-419a-c004-bd6759965785",
        "id": "rKxncoBMHxCw"
      },
      "execution_count": null,
      "outputs": [
        {
          "output_type": "execute_result",
          "data": {
            "text/plain": [
              "<matplotlib.legend.Legend at 0x7f799e114be0>"
            ]
          },
          "metadata": {},
          "execution_count": 100
        },
        {
          "output_type": "display_data",
          "data": {
            "text/plain": [
              "<Figure size 432x288 with 1 Axes>"
            ],
            "image/png": "[encoded data removed]"
          },
          "metadata": {
            "needs_background": "light"
          }
        }
      ]
    },
    {
      "cell_type": "code",
      "source": [
        "#Marcado\n",
        "\n",
        "x=np.array([3,2,9,1])\n",
        "y=np.array([1,2,6,4])\n",
        "plt.plot(x,y,marker='o')"
      ],
      "metadata": {
        "colab": {
          "base_uri": "https://localhost:8080/",
          "height": 282
        },
        "outputId": "90a55443-6e2a-48a8-d3c8-785cfe359b9a",
        "id": "_60n4FZ9Nuls"
      },
      "execution_count": null,
      "outputs": [
        {
          "output_type": "execute_result",
          "data": {
            "text/plain": [
              "[<matplotlib.lines.Line2D at 0x7f799e198490>]"
            ]
          },
          "metadata": {},
          "execution_count": 101
        },
        {
          "output_type": "display_data",
          "data": {
            "text/plain": [
              "<Figure size 432x288 with 1 Axes>"
            ],
            "image/png": "[encoded data removed]"
          },
          "metadata": {
            "needs_background": "light"
          }
        }
      ]
    },
    {
      "cell_type": "code",
      "source": [
        "#Marcado\n",
        "\n",
        "x=np.array([3,2,9,1])\n",
        "y=np.array([1,2,6,4])\n",
        "plt.plot(x,y,marker='v')"
      ],
      "metadata": {
        "colab": {
          "base_uri": "https://localhost:8080/",
          "height": 282
        },
        "outputId": "eb33be2b-d893-4318-be30-09aa93e4300b",
        "id": "FvsD2Du2V-kr"
      },
      "execution_count": null,
      "outputs": [
        {
          "output_type": "execute_result",
          "data": {
            "text/plain": [
              "[<matplotlib.lines.Line2D at 0x7f799e180b80>]"
            ]
          },
          "metadata": {},
          "execution_count": 102
        },
        {
          "output_type": "display_data",
          "data": {
            "text/plain": [
              "<Figure size 432x288 with 1 Axes>"
            ],
            "image/png": "[encoded data removed]"
          },
          "metadata": {
            "needs_background": "light"
          }
        }
      ]
    },
    {
      "cell_type": "code",
      "source": [
        "#Todas las opciones\n",
        "\n",
        "x=np.array([3,2,9,1])\n",
        "y=np.array([1,2,6,4])\n",
        "plt.plot(x,y,label='curva',marker='o',color='r')\n",
        "plt.title('Titulo')\n",
        "plt.legend()\n",
        "plt.grid()"
      ],
      "metadata": {
        "colab": {
          "base_uri": "https://localhost:8080/",
          "height": 281
        },
        "id": "jWtpFRfvF0VB",
        "outputId": "aa2cedc1-c9eb-4869-a03d-2e27eb843ca1"
      },
      "execution_count": null,
      "outputs": [
        {
          "output_type": "display_data",
          "data": {
            "text/plain": [
              "<Figure size 432x288 with 1 Axes>"
            ],
            "image/png": "[encoded data removed]"
          },
          "metadata": {
            "needs_background": "light"
          }
        }
      ]
    },
    {
      "cell_type": "markdown",
      "source": [
        "# **Graficación de funciones**"
      ],
      "metadata": {
        "id": "7u_AaoonPBAN"
      }
    },
    {
      "cell_type": "code",
      "source": [
        "x=np.linspace(0,10)\n",
        "\n",
        "plt.plot(x,np.cos(x))"
      ],
      "metadata": {
        "colab": {
          "base_uri": "https://localhost:8080/",
          "height": 282
        },
        "id": "T0AYAdcHO5BI",
        "outputId": "d7dc6e12-9602-4eba-805c-37238d958617"
      },
      "execution_count": null,
      "outputs": [
        {
          "output_type": "execute_result",
          "data": {
            "text/plain": [
              "[<matplotlib.lines.Line2D at 0x7f799df9a8b0>]"
            ]
          },
          "metadata": {},
          "execution_count": 104
        },
        {
          "output_type": "display_data",
          "data": {
            "text/plain": [
              "<Figure size 432x288 with 1 Axes>"
            ],
            "image/png": "[encoded data removed]"
          },
          "metadata": {
            "needs_background": "light"
          }
        }
      ]
    },
    {
      "cell_type": "code",
      "source": [
        "x=np.linspace(0,10,10)\n",
        "\n",
        "plt.plot(x,np.cos(x))"
      ],
      "metadata": {
        "colab": {
          "base_uri": "https://localhost:8080/",
          "height": 282
        },
        "outputId": "25d8437b-d5a3-4342-84ef-eb610ffda14f",
        "id": "mgbzIAiISAVG"
      },
      "execution_count": null,
      "outputs": [
        {
          "output_type": "execute_result",
          "data": {
            "text/plain": [
              "[<matplotlib.lines.Line2D at 0x7f799df75880>]"
            ]
          },
          "metadata": {},
          "execution_count": 105
        },
        {
          "output_type": "display_data",
          "data": {
            "text/plain": [
              "<Figure size 432x288 with 1 Axes>"
            ],
            "image/png": "[encoded data removed]"
          },
          "metadata": {
            "needs_background": "light"
          }
        }
      ]
    },
    {
      "cell_type": "code",
      "source": [
        "x=np.linspace(0,10,20)\n",
        "\n",
        "plt.plot(x,np.cos(x))"
      ],
      "metadata": {
        "colab": {
          "base_uri": "https://localhost:8080/",
          "height": 282
        },
        "outputId": "14e2abf7-38b0-43bd-f23a-d3eea555af33",
        "id": "yLIXdBWNSCZm"
      },
      "execution_count": null,
      "outputs": [
        {
          "output_type": "execute_result",
          "data": {
            "text/plain": [
              "[<matplotlib.lines.Line2D at 0x7f799df51880>]"
            ]
          },
          "metadata": {},
          "execution_count": 106
        },
        {
          "output_type": "display_data",
          "data": {
            "text/plain": [
              "<Figure size 432x288 with 1 Axes>"
            ],
            "image/png": "[encoded data removed]"
          },
          "metadata": {
            "needs_background": "light"
          }
        }
      ]
    },
    {
      "cell_type": "code",
      "source": [
        "x=np.linspace(0,10,100)\n",
        "\n",
        "plt.plot(x,np.cos(x))"
      ],
      "metadata": {
        "colab": {
          "base_uri": "https://localhost:8080/",
          "height": 282
        },
        "outputId": "fdcec276-50b0-4532-c5b7-89f8c4b296e8",
        "id": "tt6SpCY0SFc3"
      },
      "execution_count": null,
      "outputs": [
        {
          "output_type": "execute_result",
          "data": {
            "text/plain": [
              "[<matplotlib.lines.Line2D at 0x7f799dead880>]"
            ]
          },
          "metadata": {},
          "execution_count": 107
        },
        {
          "output_type": "display_data",
          "data": {
            "text/plain": [
              "<Figure size 432x288 with 1 Axes>"
            ],
            "image/png": "[encoded data removed]"
          },
          "metadata": {
            "needs_background": "light"
          }
        }
      ]
    },
    {
      "cell_type": "code",
      "source": [
        "#Multiples funciones\n",
        "\n",
        "x=np.linspace(-1.5*np.pi,1.5*np.pi,150)\n",
        "\n",
        "plt.plot(x,np.cos(x))\n",
        "plt.plot(x,np.cos(2*x))\n",
        "plt.plot(x,np.cos(3*x))"
      ],
      "metadata": {
        "colab": {
          "base_uri": "https://localhost:8080/",
          "height": 282
        },
        "id": "Qx2AIbF_Q933",
        "outputId": "30b9417c-95d2-49db-b148-44c648715cc7"
      },
      "execution_count": null,
      "outputs": [
        {
          "output_type": "execute_result",
          "data": {
            "text/plain": [
              "[<matplotlib.lines.Line2D at 0x7f799ddd4b50>]"
            ]
          },
          "metadata": {},
          "execution_count": 110
        },
        {
          "output_type": "display_data",
          "data": {
            "text/plain": [
              "<Figure size 432x288 with 1 Axes>"
            ],
            "image/png": "[encoded data removed]"
          },
          "metadata": {
            "needs_background": "light"
          }
        }
      ]
    },
    {
      "cell_type": "code",
      "source": [
        "#Multiples funciones\n",
        "\n",
        "x=np.linspace(-1.5*np.pi,1.5*np.pi,150)\n",
        "\n",
        "plt.plot(x,np.cos(x),label='frecuencia: 1',color='b')\n",
        "plt.plot(x,np.cos(2*x),label='frecuencia: 2',color='c')\n",
        "plt.plot(x,np.cos(3*x),label='frecuencia: 3',color='m')\n",
        "plt.legend()\n",
        "plt.grid()"
      ],
      "metadata": {
        "colab": {
          "base_uri": "https://localhost:8080/",
          "height": 265
        },
        "outputId": "c505182a-9c89-437b-dbdf-4eaa5b4989d5",
        "id": "wOiPUZwHSop4"
      },
      "execution_count": null,
      "outputs": [
        {
          "output_type": "display_data",
          "data": {
            "text/plain": [
              "<Figure size 432x288 with 1 Axes>"
            ],
            "image/png": "[encoded data removed]"
          },
          "metadata": {
            "needs_background": "light"
          }
        }
      ]
    },
    {
      "cell_type": "code",
      "source": [
        "#Función definida\n",
        "\n",
        "def f(t):\n",
        "  return 2*(t-2)**3+5\n",
        "\n",
        "x=np.linspace(-10,10)\n",
        "\n",
        "plt.plot(x,f(x))"
      ],
      "metadata": {
        "colab": {
          "base_uri": "https://localhost:8080/",
          "height": 282
        },
        "id": "klNtx_Q1SQEp",
        "outputId": "d08448aa-c84a-4c2f-d22c-1ae1bc9c4e24"
      },
      "execution_count": null,
      "outputs": [
        {
          "output_type": "execute_result",
          "data": {
            "text/plain": [
              "[<matplotlib.lines.Line2D at 0x7f799dfc7c40>]"
            ]
          },
          "metadata": {},
          "execution_count": 112
        },
        {
          "output_type": "display_data",
          "data": {
            "text/plain": [
              "<Figure size 432x288 with 1 Axes>"
            ],
            "image/png": "[encoded data removed]"
          },
          "metadata": {
            "needs_background": "light"
          }
        }
      ]
    }
  ]
}