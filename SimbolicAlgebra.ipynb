{
  "nbformat": 4,
  "nbformat_minor": 0,
  "metadata": {
    "colab": {
      "provenance": []
    },
    "kernelspec": {
      "name": "python3",
      "display_name": "Python 3"
    },
    "language_info": {
      "name": "python"
    }
  },
  "cells": [
    {
      "cell_type": "markdown",
      "source": [
        "By: Angel Fernando Garcia\n",
        "\n",
        "Universidad de Sonora"
      ],
      "metadata": {
        "id": "UPD6SDDXLuRL"
      }
    },
    {
      "cell_type": "markdown",
      "source": [
        "# **Sympy**"
      ],
      "metadata": {
        "id": "8gkJP5C-vqsG"
      }
    },
    {
      "cell_type": "code",
      "execution_count": null,
      "metadata": {
        "id": "sYLuY4RRva9x"
      },
      "outputs": [],
      "source": [
        "import sympy as sp"
      ]
    },
    {
      "cell_type": "markdown",
      "source": [
        "# **Declaración de variable**"
      ],
      "metadata": {
        "id": "2qsEzQa1qRVx"
      }
    },
    {
      "cell_type": "code",
      "source": [
        "x=sp.Symbol('x')\n",
        "\n",
        "x"
      ],
      "metadata": {
        "colab": {
          "base_uri": "https://localhost:8080/",
          "height": 38
        },
        "id": "kE7TPQeTv-zH",
        "outputId": "70583b55-f582-476e-b191-b472094ca367"
      },
      "execution_count": null,
      "outputs": [
        {
          "output_type": "execute_result",
          "data": {
            "text/plain": [
              "x"
            ],
            "text/latex": "$\\displaystyle x$"
          },
          "metadata": {},
          "execution_count": 859
        }
      ]
    },
    {
      "cell_type": "code",
      "source": [
        "x=sp.symbols('x')\n",
        "\n",
        "x"
      ],
      "metadata": {
        "colab": {
          "base_uri": "https://localhost:8080/",
          "height": 38
        },
        "id": "CzfOk7CPqqDg",
        "outputId": "2a9dc0fb-cc1a-446a-f4a5-b3217d8eca1c"
      },
      "execution_count": null,
      "outputs": [
        {
          "output_type": "execute_result",
          "data": {
            "text/plain": [
              "x"
            ],
            "text/latex": "$\\displaystyle x$"
          },
          "metadata": {},
          "execution_count": 860
        }
      ]
    },
    {
      "cell_type": "code",
      "source": [
        "x,y=sp.symbols('x y')\n",
        "\n",
        "x"
      ],
      "metadata": {
        "colab": {
          "base_uri": "https://localhost:8080/",
          "height": 38
        },
        "id": "uwJe_YpRqyD_",
        "outputId": "fd5c4801-616e-4f7b-8346-85060e03a382"
      },
      "execution_count": null,
      "outputs": [
        {
          "output_type": "execute_result",
          "data": {
            "text/plain": [
              "x"
            ],
            "text/latex": "$\\displaystyle x$"
          },
          "metadata": {},
          "execution_count": 861
        }
      ]
    },
    {
      "cell_type": "code",
      "source": [
        "y"
      ],
      "metadata": {
        "colab": {
          "base_uri": "https://localhost:8080/",
          "height": 38
        },
        "id": "GKI6eZ9erIpl",
        "outputId": "07d389ac-5802-484b-8688-f7858d5a9023"
      },
      "execution_count": null,
      "outputs": [
        {
          "output_type": "execute_result",
          "data": {
            "text/plain": [
              "y"
            ],
            "text/latex": "$\\displaystyle y$"
          },
          "metadata": {},
          "execution_count": 862
        }
      ]
    },
    {
      "cell_type": "code",
      "source": [
        "x,y,z=sp.symbols('x y z')\n",
        "\n",
        "x"
      ],
      "metadata": {
        "colab": {
          "base_uri": "https://localhost:8080/",
          "height": 38
        },
        "id": "rpGLADEWqyNC",
        "outputId": "7db29d3b-5d2f-4e35-c49d-3ad14649ec25"
      },
      "execution_count": null,
      "outputs": [
        {
          "output_type": "execute_result",
          "data": {
            "text/plain": [
              "x"
            ],
            "text/latex": "$\\displaystyle x$"
          },
          "metadata": {},
          "execution_count": 863
        }
      ]
    },
    {
      "cell_type": "code",
      "source": [
        "y"
      ],
      "metadata": {
        "colab": {
          "base_uri": "https://localhost:8080/",
          "height": 38
        },
        "id": "9N4NyCsirMiG",
        "outputId": "5319faf0-fa52-4c72-a043-2ff1f1353389"
      },
      "execution_count": null,
      "outputs": [
        {
          "output_type": "execute_result",
          "data": {
            "text/plain": [
              "y"
            ],
            "text/latex": "$\\displaystyle y$"
          },
          "metadata": {},
          "execution_count": 864
        }
      ]
    },
    {
      "cell_type": "code",
      "source": [
        "z"
      ],
      "metadata": {
        "colab": {
          "base_uri": "https://localhost:8080/",
          "height": 38
        },
        "id": "3UnGd7zZrMbH",
        "outputId": "c2d48819-6721-43e4-df38-10a3a77cd586"
      },
      "execution_count": null,
      "outputs": [
        {
          "output_type": "execute_result",
          "data": {
            "text/plain": [
              "z"
            ],
            "text/latex": "$\\displaystyle z$"
          },
          "metadata": {},
          "execution_count": 865
        }
      ]
    },
    {
      "cell_type": "code",
      "source": [
        "x,y,z,t=sp.symbols('x y z t')\n",
        "\n",
        "x"
      ],
      "metadata": {
        "colab": {
          "base_uri": "https://localhost:8080/",
          "height": 38
        },
        "id": "R2ew3AUbqyea",
        "outputId": "e1558ca7-637c-4b2e-e9a6-8f5bd24e6a40"
      },
      "execution_count": null,
      "outputs": [
        {
          "output_type": "execute_result",
          "data": {
            "text/plain": [
              "x"
            ],
            "text/latex": "$\\displaystyle x$"
          },
          "metadata": {},
          "execution_count": 866
        }
      ]
    },
    {
      "cell_type": "code",
      "source": [
        "y"
      ],
      "metadata": {
        "outputId": "2ba1b984-43d2-4ad7-9d3d-be088a86a64e",
        "colab": {
          "base_uri": "https://localhost:8080/",
          "height": 38
        },
        "id": "CI96m5PorQz1"
      },
      "execution_count": null,
      "outputs": [
        {
          "output_type": "execute_result",
          "data": {
            "text/plain": [
              "y"
            ],
            "text/latex": "$\\displaystyle y$"
          },
          "metadata": {},
          "execution_count": 867
        }
      ]
    },
    {
      "cell_type": "code",
      "source": [
        "z"
      ],
      "metadata": {
        "outputId": "224dfc3a-a59d-49fc-8543-fc13265714ef",
        "colab": {
          "base_uri": "https://localhost:8080/",
          "height": 38
        },
        "id": "ZI2_oLD6rQz3"
      },
      "execution_count": null,
      "outputs": [
        {
          "output_type": "execute_result",
          "data": {
            "text/plain": [
              "z"
            ],
            "text/latex": "$\\displaystyle z$"
          },
          "metadata": {},
          "execution_count": 868
        }
      ]
    },
    {
      "cell_type": "code",
      "source": [
        "t"
      ],
      "metadata": {
        "colab": {
          "base_uri": "https://localhost:8080/",
          "height": 38
        },
        "id": "SxG4HGWKqqGF",
        "outputId": "259b1d41-82af-473e-f26a-a993e39572cd"
      },
      "execution_count": null,
      "outputs": [
        {
          "output_type": "execute_result",
          "data": {
            "text/plain": [
              "t"
            ],
            "text/latex": "$\\displaystyle t$"
          },
          "metadata": {},
          "execution_count": 869
        }
      ]
    },
    {
      "cell_type": "markdown",
      "source": [
        "# **Declaración de expresiones**"
      ],
      "metadata": {
        "id": "2AcSboWTrjNt"
      }
    },
    {
      "cell_type": "code",
      "source": [
        "f=2*x\n",
        "\n",
        "f"
      ],
      "metadata": {
        "colab": {
          "base_uri": "https://localhost:8080/",
          "height": 38
        },
        "id": "W2eOaqY2qqJG",
        "outputId": "8d1264fe-bd63-412a-de03-ab9beb0f1775"
      },
      "execution_count": null,
      "outputs": [
        {
          "output_type": "execute_result",
          "data": {
            "text/plain": [
              "2*x"
            ],
            "text/latex": "$\\displaystyle 2 x$"
          },
          "metadata": {},
          "execution_count": 870
        }
      ]
    },
    {
      "cell_type": "code",
      "source": [
        "f=1+2*x+6*x**2\n",
        "\n",
        "f"
      ],
      "metadata": {
        "colab": {
          "base_uri": "https://localhost:8080/",
          "height": 38
        },
        "id": "Co1p-m4nqqOa",
        "outputId": "3a29b076-6912-4104-993b-a9169793d8ff"
      },
      "execution_count": null,
      "outputs": [
        {
          "output_type": "execute_result",
          "data": {
            "text/plain": [
              "6*x**2 + 2*x + 1"
            ],
            "text/latex": "$\\displaystyle 6 x^{2} + 2 x + 1$"
          },
          "metadata": {},
          "execution_count": 871
        }
      ]
    },
    {
      "cell_type": "code",
      "source": [
        "f=(1+2*x+6*x**2)**4+2*x+3*x**9\n",
        "\n",
        "f"
      ],
      "metadata": {
        "colab": {
          "base_uri": "https://localhost:8080/",
          "height": 41
        },
        "id": "B6vNBdT4qqRB",
        "outputId": "03e6bf41-c4c5-4095-ef5a-7f34737a71cb"
      },
      "execution_count": null,
      "outputs": [
        {
          "output_type": "execute_result",
          "data": {
            "text/plain": [
              "3*x**9 + 2*x + (6*x**2 + 2*x + 1)**4"
            ],
            "text/latex": "$\\displaystyle 3 x^{9} + 2 x + \\left(6 x^{2} + 2 x + 1\\right)^{4}$"
          },
          "metadata": {},
          "execution_count": 872
        }
      ]
    },
    {
      "cell_type": "code",
      "source": [
        "f=sp.pi*x\n",
        "\n",
        "f"
      ],
      "metadata": {
        "colab": {
          "base_uri": "https://localhost:8080/",
          "height": 38
        },
        "id": "IWdprLtL5IfV",
        "outputId": "9618576b-3f74-4df0-b21f-2987e46c481c"
      },
      "execution_count": null,
      "outputs": [
        {
          "output_type": "execute_result",
          "data": {
            "text/plain": [
              "pi*x"
            ],
            "text/latex": "$\\displaystyle \\pi x$"
          },
          "metadata": {},
          "execution_count": 873
        }
      ]
    },
    {
      "cell_type": "code",
      "source": [
        "f=sp.exp(x)\n",
        "\n",
        "f"
      ],
      "metadata": {
        "colab": {
          "base_uri": "https://localhost:8080/",
          "height": 38
        },
        "outputId": "20153097-184e-469f-f6c1-44a698534f14",
        "id": "bv02a0uu5c2r"
      },
      "execution_count": null,
      "outputs": [
        {
          "output_type": "execute_result",
          "data": {
            "text/plain": [
              "exp(x)"
            ],
            "text/latex": "$\\displaystyle e^{x}$"
          },
          "metadata": {},
          "execution_count": 874
        }
      ]
    },
    {
      "cell_type": "code",
      "source": [
        "f=sp.ln(x)\n",
        "\n",
        "f"
      ],
      "metadata": {
        "colab": {
          "base_uri": "https://localhost:8080/",
          "height": 38
        },
        "outputId": "6a10db8a-8005-4300-d42a-95bd946a6b5c",
        "id": "6Ox6QPoa5j2p"
      },
      "execution_count": null,
      "outputs": [
        {
          "output_type": "execute_result",
          "data": {
            "text/plain": [
              "log(x)"
            ],
            "text/latex": "$\\displaystyle \\log{\\left(x \\right)}$"
          },
          "metadata": {},
          "execution_count": 875
        }
      ]
    },
    {
      "cell_type": "code",
      "source": [
        "f=sp.cos(x)\n",
        "\n",
        "f"
      ],
      "metadata": {
        "colab": {
          "base_uri": "https://localhost:8080/",
          "height": 38
        },
        "outputId": "905eae05-8f45-46c8-a5d2-3365f782e383",
        "id": "LFGDqxDI5kIE"
      },
      "execution_count": null,
      "outputs": [
        {
          "output_type": "execute_result",
          "data": {
            "text/plain": [
              "cos(x)"
            ],
            "text/latex": "$\\displaystyle \\cos{\\left(x \\right)}$"
          },
          "metadata": {},
          "execution_count": 876
        }
      ]
    },
    {
      "cell_type": "code",
      "source": [
        "f=sp.sin(x)\n",
        "\n",
        "f"
      ],
      "metadata": {
        "colab": {
          "base_uri": "https://localhost:8080/",
          "height": 38
        },
        "outputId": "81044575-bb1a-41e4-be7c-6423979c13c5",
        "id": "JfdmY36t5kj_"
      },
      "execution_count": null,
      "outputs": [
        {
          "output_type": "execute_result",
          "data": {
            "text/plain": [
              "sin(x)"
            ],
            "text/latex": "$\\displaystyle \\sin{\\left(x \\right)}$"
          },
          "metadata": {},
          "execution_count": 877
        }
      ]
    },
    {
      "cell_type": "code",
      "source": [
        "f=sp.gamma(x)\n",
        "\n",
        "f"
      ],
      "metadata": {
        "colab": {
          "base_uri": "https://localhost:8080/",
          "height": 38
        },
        "outputId": "fb43881e-ae09-46a2-8ca8-8179f40fb379",
        "id": "XGeflVDp5lJ3"
      },
      "execution_count": null,
      "outputs": [
        {
          "output_type": "execute_result",
          "data": {
            "text/plain": [
              "gamma(x)"
            ],
            "text/latex": "$\\displaystyle \\Gamma\\left(x\\right)$"
          },
          "metadata": {},
          "execution_count": 878
        }
      ]
    },
    {
      "cell_type": "code",
      "source": [
        "f=sp.Rational(1,4)\n",
        "\n",
        "f"
      ],
      "metadata": {
        "colab": {
          "base_uri": "https://localhost:8080/",
          "height": 51
        },
        "id": "81vqjfWrCIdd",
        "outputId": "2428ddd8-69c9-41d4-b142-10432f908b91"
      },
      "execution_count": null,
      "outputs": [
        {
          "output_type": "execute_result",
          "data": {
            "text/plain": [
              "1/4"
            ],
            "text/latex": "$\\displaystyle \\frac{1}{4}$"
          },
          "metadata": {},
          "execution_count": 879
        }
      ]
    },
    {
      "cell_type": "code",
      "source": [
        "f=sp.Rational(1,6)*x\n",
        "\n",
        "f"
      ],
      "metadata": {
        "colab": {
          "base_uri": "https://localhost:8080/",
          "height": 47
        },
        "id": "KUtEyI2YCIax",
        "outputId": "51d3d6e7-9479-46b8-8314-90022b61f0b4"
      },
      "execution_count": null,
      "outputs": [
        {
          "output_type": "execute_result",
          "data": {
            "text/plain": [
              "x/6"
            ],
            "text/latex": "$\\displaystyle \\frac{x}{6}$"
          },
          "metadata": {},
          "execution_count": 880
        }
      ]
    },
    {
      "cell_type": "code",
      "source": [
        "f=sp.Rational(5,3)*x**2\n",
        "\n",
        "f"
      ],
      "metadata": {
        "colab": {
          "base_uri": "https://localhost:8080/",
          "height": 54
        },
        "id": "SCk2GHO8CIY0",
        "outputId": "9d399b35-a56c-4559-f504-2aa713fcebc9"
      },
      "execution_count": null,
      "outputs": [
        {
          "output_type": "execute_result",
          "data": {
            "text/plain": [
              "5*x**2/3"
            ],
            "text/latex": "$\\displaystyle \\frac{5 x^{2}}{3}$"
          },
          "metadata": {},
          "execution_count": 881
        }
      ]
    },
    {
      "cell_type": "code",
      "source": [
        "f=sp.oo\n",
        "\n",
        "f"
      ],
      "metadata": {
        "colab": {
          "base_uri": "https://localhost:8080/",
          "height": 37
        },
        "id": "YDAjmuUXQd0C",
        "outputId": "878cbb76-534f-43bf-ab3d-116a3a826194"
      },
      "execution_count": null,
      "outputs": [
        {
          "output_type": "execute_result",
          "data": {
            "text/plain": [
              "oo"
            ],
            "text/latex": "$\\displaystyle \\infty$"
          },
          "metadata": {},
          "execution_count": 882
        }
      ]
    },
    {
      "cell_type": "markdown",
      "source": [
        "# **Manipulación de expresiones**"
      ],
      "metadata": {
        "id": "D4nhaMqZyKax"
      }
    },
    {
      "cell_type": "code",
      "source": [
        "f=1+2*x+x**2\n",
        "\n",
        "f"
      ],
      "metadata": {
        "colab": {
          "base_uri": "https://localhost:8080/",
          "height": 38
        },
        "outputId": "1bacb7ea-8ad1-4eb1-9891-cc66cf562942",
        "id": "AVCic5jo6HQa"
      },
      "execution_count": null,
      "outputs": [
        {
          "output_type": "execute_result",
          "data": {
            "text/plain": [
              "x**2 + 2*x + 1"
            ],
            "text/latex": "$\\displaystyle x^{2} + 2 x + 1$"
          },
          "metadata": {},
          "execution_count": 883
        }
      ]
    },
    {
      "cell_type": "code",
      "source": [
        "#Factorización\n",
        "\n",
        "f=f.factor()\n",
        "\n",
        "f"
      ],
      "metadata": {
        "colab": {
          "base_uri": "https://localhost:8080/",
          "height": 39
        },
        "id": "ld-tecQv61BF",
        "outputId": "fd389cd5-bb82-45db-c328-b21a0918bccb"
      },
      "execution_count": null,
      "outputs": [
        {
          "output_type": "execute_result",
          "data": {
            "text/plain": [
              "(x + 1)**2"
            ],
            "text/latex": "$\\displaystyle \\left(x + 1\\right)^{2}$"
          },
          "metadata": {},
          "execution_count": 884
        }
      ]
    },
    {
      "cell_type": "code",
      "source": [
        "#Expansión\n",
        "\n",
        "f.expand()"
      ],
      "metadata": {
        "colab": {
          "base_uri": "https://localhost:8080/",
          "height": 38
        },
        "id": "G9DDMPuJ7lwP",
        "outputId": "d128839f-cce7-4622-9e6c-0c1c50f55953"
      },
      "execution_count": null,
      "outputs": [
        {
          "output_type": "execute_result",
          "data": {
            "text/plain": [
              "x**2 + 2*x + 1"
            ],
            "text/latex": "$\\displaystyle x^{2} + 2 x + 1$"
          },
          "metadata": {},
          "execution_count": 885
        }
      ]
    },
    {
      "cell_type": "code",
      "source": [
        "f=(1+2*x+x**2)/(x+1)\n",
        "\n",
        "f"
      ],
      "metadata": {
        "colab": {
          "base_uri": "https://localhost:8080/",
          "height": 55
        },
        "id": "5diVceft8Hh4",
        "outputId": "2d2c6227-04e1-4432-da5a-bd7b1546862f"
      },
      "execution_count": null,
      "outputs": [
        {
          "output_type": "execute_result",
          "data": {
            "text/plain": [
              "(x**2 + 2*x + 1)/(x + 1)"
            ],
            "text/latex": "$\\displaystyle \\frac{x^{2} + 2 x + 1}{x + 1}$"
          },
          "metadata": {},
          "execution_count": 886
        }
      ]
    },
    {
      "cell_type": "code",
      "source": [
        "#Simplificación\n",
        "\n",
        "f.simplify()"
      ],
      "metadata": {
        "colab": {
          "base_uri": "https://localhost:8080/",
          "height": 38
        },
        "id": "bxEl9lV261Dq",
        "outputId": "0bf9c99a-c372-4367-90c1-40aca4290d15"
      },
      "execution_count": null,
      "outputs": [
        {
          "output_type": "execute_result",
          "data": {
            "text/plain": [
              "x + 1"
            ],
            "text/latex": "$\\displaystyle x + 1$"
          },
          "metadata": {},
          "execution_count": 887
        }
      ]
    },
    {
      "cell_type": "code",
      "source": [
        "f=sp.cos(x)**2+sp.sin(x)**2\n",
        "\n",
        "f"
      ],
      "metadata": {
        "colab": {
          "base_uri": "https://localhost:8080/",
          "height": 38
        },
        "id": "11c6ON7O61Ge",
        "outputId": "48edfdc5-ed76-4cf3-a17d-24950bbf15e7"
      },
      "execution_count": null,
      "outputs": [
        {
          "output_type": "execute_result",
          "data": {
            "text/plain": [
              "sin(x)**2 + cos(x)**2"
            ],
            "text/latex": "$\\displaystyle \\sin^{2}{\\left(x \\right)} + \\cos^{2}{\\left(x \\right)}$"
          },
          "metadata": {},
          "execution_count": 888
        }
      ]
    },
    {
      "cell_type": "code",
      "source": [
        "#Simplificación\n",
        "\n",
        "f.simplify()"
      ],
      "metadata": {
        "colab": {
          "base_uri": "https://localhost:8080/",
          "height": 37
        },
        "outputId": "79ee66c5-6e3e-453c-b19b-db9e142c0ba5",
        "id": "BfNGiCuA8gsb"
      },
      "execution_count": null,
      "outputs": [
        {
          "output_type": "execute_result",
          "data": {
            "text/plain": [
              "1"
            ],
            "text/latex": "$\\displaystyle 1$"
          },
          "metadata": {},
          "execution_count": 889
        }
      ]
    },
    {
      "cell_type": "markdown",
      "source": [
        "# **Ecuaciones**"
      ],
      "metadata": {
        "id": "J-wFvOoGD_UA"
      }
    },
    {
      "cell_type": "code",
      "source": [
        "sp.Eq(x,5)"
      ],
      "metadata": {
        "colab": {
          "base_uri": "https://localhost:8080/",
          "height": 38
        },
        "id": "SCvVoyypEaAb",
        "outputId": "010e1f9f-ad2c-4f25-f3ac-a47884c77ce4"
      },
      "execution_count": null,
      "outputs": [
        {
          "output_type": "execute_result",
          "data": {
            "text/plain": [
              "Eq(x, 5)"
            ],
            "text/latex": "$\\displaystyle x = 5$"
          },
          "metadata": {},
          "execution_count": 890
        }
      ]
    },
    {
      "cell_type": "code",
      "source": [
        "sp.Eq(2*x,x+3)"
      ],
      "metadata": {
        "colab": {
          "base_uri": "https://localhost:8080/",
          "height": 38
        },
        "id": "Po2RmWBjEZ9V",
        "outputId": "42255c7d-ffed-4a85-91fd-d2b6116bad0b"
      },
      "execution_count": null,
      "outputs": [
        {
          "output_type": "execute_result",
          "data": {
            "text/plain": [
              "Eq(2*x, x + 3)"
            ],
            "text/latex": "$\\displaystyle 2 x = x + 3$"
          },
          "metadata": {},
          "execution_count": 891
        }
      ]
    },
    {
      "cell_type": "code",
      "source": [
        "f=sp.cos(2*x)+1\n",
        "g=sp.sin(3*x)-5\n",
        "\n",
        "sp.Eq(f,g)"
      ],
      "metadata": {
        "colab": {
          "base_uri": "https://localhost:8080/",
          "height": 38
        },
        "id": "BGcH6UyIEZ6s",
        "outputId": "eea03334-c8ea-462a-bc30-39ae7d041f9c"
      },
      "execution_count": null,
      "outputs": [
        {
          "output_type": "execute_result",
          "data": {
            "text/plain": [
              "Eq(cos(2*x) + 1, sin(3*x) - 5)"
            ],
            "text/latex": "$\\displaystyle \\cos{\\left(2 x \\right)} + 1 = \\sin{\\left(3 x \\right)} - 5$"
          },
          "metadata": {},
          "execution_count": 892
        }
      ]
    },
    {
      "cell_type": "code",
      "source": [
        "sp.Eq(3*x*y,2*x**2+1)"
      ],
      "metadata": {
        "colab": {
          "base_uri": "https://localhost:8080/",
          "height": 38
        },
        "id": "U30RB9rkF1Dt",
        "outputId": "02d3515e-6924-42e2-ad12-2603cc0bae6b"
      },
      "execution_count": null,
      "outputs": [
        {
          "output_type": "execute_result",
          "data": {
            "text/plain": [
              "Eq(3*x*y, 2*x**2 + 1)"
            ],
            "text/latex": "$\\displaystyle 3 x y = 2 x^{2} + 1$"
          },
          "metadata": {},
          "execution_count": 893
        }
      ]
    },
    {
      "cell_type": "markdown",
      "source": [
        "# **Despejes y soluciones**"
      ],
      "metadata": {
        "id": "1ao_JIPc-IW9"
      }
    },
    {
      "cell_type": "code",
      "source": [
        "#Ecuación\n",
        "\n",
        "eq=sp.Eq(x+2,5)\n",
        "eq"
      ],
      "metadata": {
        "colab": {
          "base_uri": "https://localhost:8080/",
          "height": 38
        },
        "id": "B4xW0GW6Bcvc",
        "outputId": "6d571e64-be0f-4781-c8de-488f8d9e6bd1"
      },
      "execution_count": null,
      "outputs": [
        {
          "output_type": "execute_result",
          "data": {
            "text/plain": [
              "Eq(x + 2, 5)"
            ],
            "text/latex": "$\\displaystyle x + 2 = 5$"
          },
          "metadata": {},
          "execution_count": 894
        }
      ]
    },
    {
      "cell_type": "code",
      "source": [
        "#Solución\n",
        "\n",
        "sp.solve(eq,x)"
      ],
      "metadata": {
        "colab": {
          "base_uri": "https://localhost:8080/"
        },
        "id": "wL78DFIQFdv2",
        "outputId": "5fb35845-1b5d-40a1-ebb9-73edb39eac29"
      },
      "execution_count": null,
      "outputs": [
        {
          "output_type": "execute_result",
          "data": {
            "text/plain": [
              "[3]"
            ]
          },
          "metadata": {},
          "execution_count": 895
        }
      ]
    },
    {
      "cell_type": "code",
      "source": [
        "###############################################################"
      ],
      "metadata": {
        "id": "PJcuv2LKG6aQ"
      },
      "execution_count": null,
      "outputs": []
    },
    {
      "cell_type": "code",
      "source": [
        "#Ecuación\n",
        "\n",
        "eq=sp.Eq(x**2,8)\n",
        "eq"
      ],
      "metadata": {
        "colab": {
          "base_uri": "https://localhost:8080/",
          "height": 38
        },
        "outputId": "b2d2014b-5cf2-4422-8d3d-458b8d99f7db",
        "id": "Ep573HjzGE-Y"
      },
      "execution_count": null,
      "outputs": [
        {
          "output_type": "execute_result",
          "data": {
            "text/plain": [
              "Eq(x**2, 8)"
            ],
            "text/latex": "$\\displaystyle x^{2} = 8$"
          },
          "metadata": {},
          "execution_count": 897
        }
      ]
    },
    {
      "cell_type": "code",
      "source": [
        "#Solución\n",
        "\n",
        "s=sp.solve(eq,x)\n",
        "s"
      ],
      "metadata": {
        "colab": {
          "base_uri": "https://localhost:8080/"
        },
        "outputId": "f7e204eb-88d5-4c05-f9b4-694c0dda1a3d",
        "id": "IGpzK8eYGE-c"
      },
      "execution_count": null,
      "outputs": [
        {
          "output_type": "execute_result",
          "data": {
            "text/plain": [
              "[-2*sqrt(2), 2*sqrt(2)]"
            ]
          },
          "metadata": {},
          "execution_count": 898
        }
      ]
    },
    {
      "cell_type": "code",
      "source": [
        "s[0]"
      ],
      "metadata": {
        "colab": {
          "base_uri": "https://localhost:8080/",
          "height": 39
        },
        "id": "1mCNm18VFwT2",
        "outputId": "14b903d7-4345-4f16-f175-296b90056fd0"
      },
      "execution_count": null,
      "outputs": [
        {
          "output_type": "execute_result",
          "data": {
            "text/plain": [
              "-2*sqrt(2)"
            ],
            "text/latex": "$\\displaystyle - 2 \\sqrt{2}$"
          },
          "metadata": {},
          "execution_count": 899
        }
      ]
    },
    {
      "cell_type": "code",
      "source": [
        "###############################################################"
      ],
      "metadata": {
        "id": "Wa47LbHeG8bw"
      },
      "execution_count": null,
      "outputs": []
    },
    {
      "cell_type": "code",
      "source": [
        "#Ecuación\n",
        "\n",
        "eq=sp.Eq(x**2+2*x,8)\n",
        "eq"
      ],
      "metadata": {
        "colab": {
          "base_uri": "https://localhost:8080/",
          "height": 38
        },
        "outputId": "2c342c75-d4d7-4535-c9d3-f78c800aed85",
        "id": "gApfRROkGZ7u"
      },
      "execution_count": null,
      "outputs": [
        {
          "output_type": "execute_result",
          "data": {
            "text/plain": [
              "Eq(x**2 + 2*x, 8)"
            ],
            "text/latex": "$\\displaystyle x^{2} + 2 x = 8$"
          },
          "metadata": {},
          "execution_count": 901
        }
      ]
    },
    {
      "cell_type": "code",
      "source": [
        "#Solución\n",
        "\n",
        "s=sp.solve(eq,x)\n",
        "s"
      ],
      "metadata": {
        "colab": {
          "base_uri": "https://localhost:8080/"
        },
        "outputId": "16432149-9f5b-481f-cf39-8bc7bb145828",
        "id": "5-pW9MhiGZ7w"
      },
      "execution_count": null,
      "outputs": [
        {
          "output_type": "execute_result",
          "data": {
            "text/plain": [
              "[-4, 2]"
            ]
          },
          "metadata": {},
          "execution_count": 902
        }
      ]
    },
    {
      "cell_type": "code",
      "source": [
        "###############################################################"
      ],
      "metadata": {
        "id": "YWgGUYoAG91G"
      },
      "execution_count": null,
      "outputs": []
    },
    {
      "cell_type": "code",
      "source": [
        "#Ecuación\n",
        "\n",
        "eq=sp.Eq(x**2-x,-8)\n",
        "eq"
      ],
      "metadata": {
        "colab": {
          "base_uri": "https://localhost:8080/",
          "height": 38
        },
        "outputId": "77e910ba-9532-4e11-a4f6-0fd54c9be84f",
        "id": "R60qxDndGhOF"
      },
      "execution_count": null,
      "outputs": [
        {
          "output_type": "execute_result",
          "data": {
            "text/plain": [
              "Eq(x**2 - x, -8)"
            ],
            "text/latex": "$\\displaystyle x^{2} - x = -8$"
          },
          "metadata": {},
          "execution_count": 904
        }
      ]
    },
    {
      "cell_type": "code",
      "source": [
        "#Solución\n",
        "\n",
        "s=sp.solve(eq,x)\n",
        "s"
      ],
      "metadata": {
        "colab": {
          "base_uri": "https://localhost:8080/"
        },
        "outputId": "7aecb520-59f7-478e-f4e3-013b97d395d5",
        "id": "gHUwWZJEGhOK"
      },
      "execution_count": null,
      "outputs": [
        {
          "output_type": "execute_result",
          "data": {
            "text/plain": [
              "[1/2 - sqrt(31)*I/2, 1/2 + sqrt(31)*I/2]"
            ]
          },
          "metadata": {},
          "execution_count": 905
        }
      ]
    },
    {
      "cell_type": "code",
      "source": [
        "s[0]"
      ],
      "metadata": {
        "colab": {
          "base_uri": "https://localhost:8080/",
          "height": 55
        },
        "outputId": "36dff52a-f743-4a87-dd6d-7c80234ba111",
        "id": "OJCVE85mGhOL"
      },
      "execution_count": null,
      "outputs": [
        {
          "output_type": "execute_result",
          "data": {
            "text/plain": [
              "1/2 - sqrt(31)*I/2"
            ],
            "text/latex": "$\\displaystyle \\frac{1}{2} - \\frac{\\sqrt{31} i}{2}$"
          },
          "metadata": {},
          "execution_count": 906
        }
      ]
    },
    {
      "cell_type": "code",
      "source": [
        "###############################################################"
      ],
      "metadata": {
        "id": "Ovy_xBi6HAJ9"
      },
      "execution_count": null,
      "outputs": []
    },
    {
      "cell_type": "code",
      "source": [
        "#Ecuación\n",
        "\n",
        "eq=sp.Eq(x**2+2*y,8)\n",
        "eq"
      ],
      "metadata": {
        "colab": {
          "base_uri": "https://localhost:8080/",
          "height": 38
        },
        "outputId": "d1c9492e-d2bb-4bd0-8a76-b4d8995eb639",
        "id": "kONB3jjWGsjA"
      },
      "execution_count": null,
      "outputs": [
        {
          "output_type": "execute_result",
          "data": {
            "text/plain": [
              "Eq(x**2 + 2*y, 8)"
            ],
            "text/latex": "$\\displaystyle x^{2} + 2 y = 8$"
          },
          "metadata": {},
          "execution_count": 909
        }
      ]
    },
    {
      "cell_type": "code",
      "source": [
        "#Solución\n",
        "\n",
        "s=sp.solve(eq,x)\n",
        "s"
      ],
      "metadata": {
        "colab": {
          "base_uri": "https://localhost:8080/"
        },
        "outputId": "d1a8ac1c-02d0-4531-a19d-a614a09f38d3",
        "id": "jHZfHdMIGsjC"
      },
      "execution_count": null,
      "outputs": [
        {
          "output_type": "execute_result",
          "data": {
            "text/plain": [
              "[-sqrt(8 - 2*y), sqrt(8 - 2*y)]"
            ]
          },
          "metadata": {},
          "execution_count": 910
        }
      ]
    },
    {
      "cell_type": "code",
      "source": [
        "s[0]"
      ],
      "metadata": {
        "colab": {
          "base_uri": "https://localhost:8080/",
          "height": 39
        },
        "outputId": "7518b0a8-326c-4420-e6c0-e70e6dd94b41",
        "id": "RlAGatP4GsjN"
      },
      "execution_count": null,
      "outputs": [
        {
          "output_type": "execute_result",
          "data": {
            "text/plain": [
              "-sqrt(8 - 2*y)"
            ],
            "text/latex": "$\\displaystyle - \\sqrt{8 - 2 y}$"
          },
          "metadata": {},
          "execution_count": 911
        }
      ]
    },
    {
      "cell_type": "code",
      "source": [
        "###############################################################"
      ],
      "metadata": {
        "id": "DJeDijnsGOQt"
      },
      "execution_count": null,
      "outputs": []
    },
    {
      "cell_type": "code",
      "source": [
        "#Ecuación\n",
        "\n",
        "eq=sp.Eq(x**2+2*y,8)\n",
        "eq"
      ],
      "metadata": {
        "colab": {
          "base_uri": "https://localhost:8080/",
          "height": 38
        },
        "outputId": "badf59e6-eea8-4eb1-f80e-809c92ddd599",
        "id": "t1wj1g3oHDFV"
      },
      "execution_count": null,
      "outputs": [
        {
          "output_type": "execute_result",
          "data": {
            "text/plain": [
              "Eq(x**2 + 2*y, 8)"
            ],
            "text/latex": "$\\displaystyle x^{2} + 2 y = 8$"
          },
          "metadata": {},
          "execution_count": 913
        }
      ]
    },
    {
      "cell_type": "code",
      "source": [
        "#Solución\n",
        "\n",
        "s=sp.solve(eq,y)\n",
        "s"
      ],
      "metadata": {
        "colab": {
          "base_uri": "https://localhost:8080/"
        },
        "outputId": "2fba7792-1bd3-4ac9-9cb9-704a3dedb6d7",
        "id": "g05k9PJ9HDFW"
      },
      "execution_count": null,
      "outputs": [
        {
          "output_type": "execute_result",
          "data": {
            "text/plain": [
              "[4 - x**2/2]"
            ]
          },
          "metadata": {},
          "execution_count": 914
        }
      ]
    },
    {
      "cell_type": "code",
      "source": [
        "s[0]"
      ],
      "metadata": {
        "colab": {
          "base_uri": "https://localhost:8080/",
          "height": 54
        },
        "outputId": "b88b90ab-97b9-4ac3-9772-e4072ce71542",
        "id": "KefrnoRGHDFX"
      },
      "execution_count": null,
      "outputs": [
        {
          "output_type": "execute_result",
          "data": {
            "text/plain": [
              "4 - x**2/2"
            ],
            "text/latex": "$\\displaystyle 4 - \\frac{x^{2}}{2}$"
          },
          "metadata": {},
          "execution_count": 915
        }
      ]
    },
    {
      "cell_type": "code",
      "source": [
        "###############################################################"
      ],
      "metadata": {
        "id": "NjaT4J28HTks"
      },
      "execution_count": null,
      "outputs": []
    },
    {
      "cell_type": "code",
      "source": [
        "#Ecuación\n",
        "\n",
        "eq=sp.Eq(3*sp.cos(2*x),16*sp.sin(y)**2)\n",
        "eq"
      ],
      "metadata": {
        "colab": {
          "base_uri": "https://localhost:8080/",
          "height": 38
        },
        "outputId": "3b14f490-16ef-402b-e828-cfa2cf5936a0",
        "id": "QmRBo9ZeHngk"
      },
      "execution_count": null,
      "outputs": [
        {
          "output_type": "execute_result",
          "data": {
            "text/plain": [
              "Eq(3*cos(2*x), 16*sin(y)**2)"
            ],
            "text/latex": "$\\displaystyle 3 \\cos{\\left(2 x \\right)} = 16 \\sin^{2}{\\left(y \\right)}$"
          },
          "metadata": {},
          "execution_count": 917
        }
      ]
    },
    {
      "cell_type": "code",
      "source": [
        "#Solución\n",
        "\n",
        "s=sp.solve(eq,y)\n",
        "s"
      ],
      "metadata": {
        "colab": {
          "base_uri": "https://localhost:8080/"
        },
        "outputId": "a7f26f2b-b5db-415e-a3c6-2baed2f6c44b",
        "id": "Uj6WpN8FHngl"
      },
      "execution_count": null,
      "outputs": [
        {
          "output_type": "execute_result",
          "data": {
            "text/plain": [
              "[pi - asin(sqrt(3)*sqrt(cos(2*x))/4),\n",
              " asin(sqrt(3)*sqrt(cos(2*x))/4) + pi,\n",
              " -asin(sqrt(3)*sqrt(cos(2*x))/4),\n",
              " asin(sqrt(3)*sqrt(cos(2*x))/4)]"
            ]
          },
          "metadata": {},
          "execution_count": 918
        }
      ]
    },
    {
      "cell_type": "code",
      "source": [
        "s[0]"
      ],
      "metadata": {
        "colab": {
          "base_uri": "https://localhost:8080/",
          "height": 68
        },
        "outputId": "b267235a-ff0a-4107-cc75-95c8684c7a40",
        "id": "nhwKK6z3Hngl"
      },
      "execution_count": null,
      "outputs": [
        {
          "output_type": "execute_result",
          "data": {
            "text/plain": [
              "pi - asin(sqrt(3)*sqrt(cos(2*x))/4)"
            ],
            "text/latex": "$\\displaystyle \\pi - \\operatorname{asin}{\\left(\\frac{\\sqrt{3} \\sqrt{\\cos{\\left(2 x \\right)}}}{4} \\right)}$"
          },
          "metadata": {},
          "execution_count": 919
        }
      ]
    },
    {
      "cell_type": "code",
      "source": [
        "###############################################################"
      ],
      "metadata": {
        "id": "TNSa3YPNHngl"
      },
      "execution_count": null,
      "outputs": []
    },
    {
      "cell_type": "markdown",
      "source": [
        "# **Limites**"
      ],
      "metadata": {
        "id": "l3B7C77TOpXn"
      }
    },
    {
      "cell_type": "code",
      "source": [
        "f=1/x\n",
        "sp.limit(f,x,0,'+')"
      ],
      "metadata": {
        "colab": {
          "base_uri": "https://localhost:8080/",
          "height": 37
        },
        "id": "1wl6SYzYM9J9",
        "outputId": "3bdcaf08-5233-4bd2-c95c-71f9451a8d73"
      },
      "execution_count": null,
      "outputs": [
        {
          "output_type": "execute_result",
          "data": {
            "text/plain": [
              "oo"
            ],
            "text/latex": "$\\displaystyle \\infty$"
          },
          "metadata": {},
          "execution_count": 920
        }
      ]
    },
    {
      "cell_type": "code",
      "source": [
        "f=1/x\n",
        "sp.limit(f,x,0,'-')"
      ],
      "metadata": {
        "colab": {
          "base_uri": "https://localhost:8080/",
          "height": 37
        },
        "outputId": "9e920c8f-a928-48b1-c535-6f7efa72740e",
        "id": "U7_HWvJePxwn"
      },
      "execution_count": null,
      "outputs": [
        {
          "output_type": "execute_result",
          "data": {
            "text/plain": [
              "-oo"
            ],
            "text/latex": "$\\displaystyle -\\infty$"
          },
          "metadata": {},
          "execution_count": 921
        }
      ]
    },
    {
      "cell_type": "code",
      "source": [
        "f=sp.exp(x)\n",
        "f.limit(x,0)"
      ],
      "metadata": {
        "colab": {
          "base_uri": "https://localhost:8080/",
          "height": 37
        },
        "id": "swsc9mbEOUf5",
        "outputId": "766a66e7-d559-4f81-af4e-156d49148c6d"
      },
      "execution_count": null,
      "outputs": [
        {
          "output_type": "execute_result",
          "data": {
            "text/plain": [
              "1"
            ],
            "text/latex": "$\\displaystyle 1$"
          },
          "metadata": {},
          "execution_count": 922
        }
      ]
    },
    {
      "cell_type": "code",
      "source": [
        "f=sp.exp(x)\n",
        "f.limit(x,-sp.oo)"
      ],
      "metadata": {
        "colab": {
          "base_uri": "https://localhost:8080/",
          "height": 37
        },
        "outputId": "4ef3f9b3-ddbd-4d12-85a8-bc55fd9e684d",
        "id": "W2wIn4etQlIT"
      },
      "execution_count": null,
      "outputs": [
        {
          "output_type": "execute_result",
          "data": {
            "text/plain": [
              "0"
            ],
            "text/latex": "$\\displaystyle 0$"
          },
          "metadata": {},
          "execution_count": 923
        }
      ]
    },
    {
      "cell_type": "code",
      "source": [
        "f=sp.exp(x)\n",
        "f.limit(x,sp.oo)"
      ],
      "metadata": {
        "colab": {
          "base_uri": "https://localhost:8080/",
          "height": 37
        },
        "outputId": "f0af8425-2721-41d9-f791-674f385df712",
        "id": "kgCJ12qkQnDM"
      },
      "execution_count": null,
      "outputs": [
        {
          "output_type": "execute_result",
          "data": {
            "text/plain": [
              "oo"
            ],
            "text/latex": "$\\displaystyle \\infty$"
          },
          "metadata": {},
          "execution_count": 924
        }
      ]
    },
    {
      "cell_type": "code",
      "source": [
        "f=sp.cos(x)\n",
        "f.limit(x,sp.oo)"
      ],
      "metadata": {
        "colab": {
          "base_uri": "https://localhost:8080/",
          "height": 37
        },
        "outputId": "cf2a8da3-c4ec-4be0-96e0-75bd2a1d4179",
        "id": "2AAoyPtjQtGd"
      },
      "execution_count": null,
      "outputs": [
        {
          "output_type": "execute_result",
          "data": {
            "text/plain": [
              "AccumBounds(-1, 1)"
            ],
            "text/latex": "$\\displaystyle \\left\\langle -1, 1\\right\\rangle$"
          },
          "metadata": {},
          "execution_count": 925
        }
      ]
    },
    {
      "cell_type": "code",
      "source": [
        "f=sp.sin(x)\n",
        "f.limit(x,sp.oo)"
      ],
      "metadata": {
        "colab": {
          "base_uri": "https://localhost:8080/",
          "height": 37
        },
        "outputId": "ff05090c-c89e-4ba1-8066-caff33dd2353",
        "id": "On-ZtN0zQxFK"
      },
      "execution_count": null,
      "outputs": [
        {
          "output_type": "execute_result",
          "data": {
            "text/plain": [
              "AccumBounds(-1, 1)"
            ],
            "text/latex": "$\\displaystyle \\left\\langle -1, 1\\right\\rangle$"
          },
          "metadata": {},
          "execution_count": 926
        }
      ]
    },
    {
      "cell_type": "markdown",
      "source": [
        "# **Derivadas**"
      ],
      "metadata": {
        "id": "AOlm8c7uQ487"
      }
    },
    {
      "cell_type": "code",
      "source": [
        "#Declaración de función\n",
        "\n",
        "f=2*y*x**4+3*y\n",
        "f"
      ],
      "metadata": {
        "colab": {
          "base_uri": "https://localhost:8080/",
          "height": 38
        },
        "id": "G_LLuBOxO8vA",
        "outputId": "2f1c715c-26a2-4d86-c149-dfdac62c3f9b"
      },
      "execution_count": null,
      "outputs": [
        {
          "output_type": "execute_result",
          "data": {
            "text/plain": [
              "2*x**4*y + 3*y"
            ],
            "text/latex": "$\\displaystyle 2 x^{4} y + 3 y$"
          },
          "metadata": {},
          "execution_count": 927
        }
      ]
    },
    {
      "cell_type": "code",
      "source": [
        "f.diff(x)"
      ],
      "metadata": {
        "colab": {
          "base_uri": "https://localhost:8080/",
          "height": 38
        },
        "id": "jw8ZeUIERBO1",
        "outputId": "745e0109-219f-407f-c538-3c4b617b15db"
      },
      "execution_count": null,
      "outputs": [
        {
          "output_type": "execute_result",
          "data": {
            "text/plain": [
              "8*x**3*y"
            ],
            "text/latex": "$\\displaystyle 8 x^{3} y$"
          },
          "metadata": {},
          "execution_count": 928
        }
      ]
    },
    {
      "cell_type": "code",
      "source": [
        "f.diff(x,4)"
      ],
      "metadata": {
        "colab": {
          "base_uri": "https://localhost:8080/",
          "height": 38
        },
        "id": "Cdqmp-uCRDDa",
        "outputId": "7d2163d9-cce7-4afa-e9d7-a1658e551b6e"
      },
      "execution_count": null,
      "outputs": [
        {
          "output_type": "execute_result",
          "data": {
            "text/plain": [
              "48*y"
            ],
            "text/latex": "$\\displaystyle 48 y$"
          },
          "metadata": {},
          "execution_count": 929
        }
      ]
    },
    {
      "cell_type": "code",
      "source": [
        "f.diff(y)"
      ],
      "metadata": {
        "colab": {
          "base_uri": "https://localhost:8080/",
          "height": 38
        },
        "id": "CIv3zln6RIFF",
        "outputId": "1c9a18cb-392c-4f61-8ce1-68baa17bdcc0"
      },
      "execution_count": null,
      "outputs": [
        {
          "output_type": "execute_result",
          "data": {
            "text/plain": [
              "2*x**4 + 3"
            ],
            "text/latex": "$\\displaystyle 2 x^{4} + 3$"
          },
          "metadata": {},
          "execution_count": 930
        }
      ]
    },
    {
      "cell_type": "code",
      "source": [
        "f.diff(y,2)"
      ],
      "metadata": {
        "colab": {
          "base_uri": "https://localhost:8080/",
          "height": 37
        },
        "id": "EzFUEXbPRLan",
        "outputId": "c5c7d22e-ba95-411e-d77a-e670a3b2e44c"
      },
      "execution_count": null,
      "outputs": [
        {
          "output_type": "execute_result",
          "data": {
            "text/plain": [
              "0"
            ],
            "text/latex": "$\\displaystyle 0$"
          },
          "metadata": {},
          "execution_count": 931
        }
      ]
    },
    {
      "cell_type": "code",
      "source": [
        "#Declaración de función\n",
        "\n",
        "f=sp.exp(-x**2)+14*sp.cos(sp.pi*y)+23*sp.ln(2*z)\n",
        "f"
      ],
      "metadata": {
        "colab": {
          "base_uri": "https://localhost:8080/",
          "height": 41
        },
        "id": "FqVoiHylRNSo",
        "outputId": "8a7b9f8a-0c92-433e-d0d6-2aade7d8abc6"
      },
      "execution_count": null,
      "outputs": [
        {
          "output_type": "execute_result",
          "data": {
            "text/plain": [
              "23*log(2*z) + 14*cos(pi*y) + exp(-x**2)"
            ],
            "text/latex": "$\\displaystyle 23 \\log{\\left(2 z \\right)} + 14 \\cos{\\left(\\pi y \\right)} + e^{- x^{2}}$"
          },
          "metadata": {},
          "execution_count": 932
        }
      ]
    },
    {
      "cell_type": "code",
      "source": [
        "f.diff(x)"
      ],
      "metadata": {
        "colab": {
          "base_uri": "https://localhost:8080/",
          "height": 41
        },
        "id": "49R8Wcm5Rd3J",
        "outputId": "a17c6491-fcc8-4a5f-a7d0-34b6ca650a28"
      },
      "execution_count": null,
      "outputs": [
        {
          "output_type": "execute_result",
          "data": {
            "text/plain": [
              "-2*x*exp(-x**2)"
            ],
            "text/latex": "$\\displaystyle - 2 x e^{- x^{2}}$"
          },
          "metadata": {},
          "execution_count": 933
        }
      ]
    },
    {
      "cell_type": "code",
      "source": [
        "f.diff(x,4)"
      ],
      "metadata": {
        "colab": {
          "base_uri": "https://localhost:8080/",
          "height": 41
        },
        "id": "UA1Q9a4iRvEx",
        "outputId": "c474913e-b469-4d10-f3a4-2f01f028bda6"
      },
      "execution_count": null,
      "outputs": [
        {
          "output_type": "execute_result",
          "data": {
            "text/plain": [
              "4*(4*x**4 - 12*x**2 + 3)*exp(-x**2)"
            ],
            "text/latex": "$\\displaystyle 4 \\left(4 x^{4} - 12 x^{2} + 3\\right) e^{- x^{2}}$"
          },
          "metadata": {},
          "execution_count": 934
        }
      ]
    },
    {
      "cell_type": "code",
      "source": [
        "f.diff(y)"
      ],
      "metadata": {
        "colab": {
          "base_uri": "https://localhost:8080/",
          "height": 38
        },
        "id": "_4hte2p9Rw_9",
        "outputId": "756993c8-f905-4ecd-da7f-6b43d48168da"
      },
      "execution_count": null,
      "outputs": [
        {
          "output_type": "execute_result",
          "data": {
            "text/plain": [
              "-14*pi*sin(pi*y)"
            ],
            "text/latex": "$\\displaystyle - 14 \\pi \\sin{\\left(\\pi y \\right)}$"
          },
          "metadata": {},
          "execution_count": 935
        }
      ]
    },
    {
      "cell_type": "code",
      "source": [
        "f.diff(y,4)"
      ],
      "metadata": {
        "colab": {
          "base_uri": "https://localhost:8080/",
          "height": 38
        },
        "id": "VwZXo9ZFRztd",
        "outputId": "1cb2ba29-7317-4677-bfd7-489fded04ee4"
      },
      "execution_count": null,
      "outputs": [
        {
          "output_type": "execute_result",
          "data": {
            "text/plain": [
              "14*pi**4*cos(pi*y)"
            ],
            "text/latex": "$\\displaystyle 14 \\pi^{4} \\cos{\\left(\\pi y \\right)}$"
          },
          "metadata": {},
          "execution_count": 936
        }
      ]
    },
    {
      "cell_type": "code",
      "source": [
        "f.diff(z)"
      ],
      "metadata": {
        "colab": {
          "base_uri": "https://localhost:8080/",
          "height": 51
        },
        "id": "WV-s87i7R1cy",
        "outputId": "87d3982f-af87-4051-de91-8c9005236358"
      },
      "execution_count": null,
      "outputs": [
        {
          "output_type": "execute_result",
          "data": {
            "text/plain": [
              "23/z"
            ],
            "text/latex": "$\\displaystyle \\frac{23}{z}$"
          },
          "metadata": {},
          "execution_count": 937
        }
      ]
    },
    {
      "cell_type": "code",
      "source": [
        "f.diff(z,4)"
      ],
      "metadata": {
        "colab": {
          "base_uri": "https://localhost:8080/",
          "height": 51
        },
        "outputId": "5bfcfc6a-381a-474d-ad82-1340b20c2b4b",
        "id": "qoiUBgDvSkQi"
      },
      "execution_count": null,
      "outputs": [
        {
          "output_type": "execute_result",
          "data": {
            "text/plain": [
              "-138/z**4"
            ],
            "text/latex": "$\\displaystyle - \\frac{138}{z^{4}}$"
          },
          "metadata": {},
          "execution_count": 938
        }
      ]
    },
    {
      "cell_type": "markdown",
      "source": [
        "# **Integración**"
      ],
      "metadata": {
        "id": "_bVZk0MAR_d0"
      }
    },
    {
      "cell_type": "code",
      "source": [
        "#Declaración de función\n",
        "\n",
        "f=2*y\n",
        "f"
      ],
      "metadata": {
        "colab": {
          "base_uri": "https://localhost:8080/",
          "height": 38
        },
        "id": "L-B2jDCnSuTO",
        "outputId": "e1e14d90-b3e8-401a-c318-236d93184d90"
      },
      "execution_count": null,
      "outputs": [
        {
          "output_type": "execute_result",
          "data": {
            "text/plain": [
              "2*y"
            ],
            "text/latex": "$\\displaystyle 2 y$"
          },
          "metadata": {},
          "execution_count": 939
        }
      ]
    },
    {
      "cell_type": "code",
      "source": [
        "f.integrate(y)"
      ],
      "metadata": {
        "colab": {
          "base_uri": "https://localhost:8080/",
          "height": 38
        },
        "id": "cQQWNP1OTJrR",
        "outputId": "d5152dbe-120d-4b30-e594-4208f6a4a984"
      },
      "execution_count": null,
      "outputs": [
        {
          "output_type": "execute_result",
          "data": {
            "text/plain": [
              "y**2"
            ],
            "text/latex": "$\\displaystyle y^{2}$"
          },
          "metadata": {},
          "execution_count": 940
        }
      ]
    },
    {
      "cell_type": "code",
      "source": [
        "f.integrate((y,-1,2))"
      ],
      "metadata": {
        "colab": {
          "base_uri": "https://localhost:8080/",
          "height": 37
        },
        "id": "7rE1oX2DTL-O",
        "outputId": "fc18d220-2549-4e2e-9feb-e50f893c404e"
      },
      "execution_count": null,
      "outputs": [
        {
          "output_type": "execute_result",
          "data": {
            "text/plain": [
              "3"
            ],
            "text/latex": "$\\displaystyle 3$"
          },
          "metadata": {},
          "execution_count": 942
        }
      ]
    },
    {
      "cell_type": "code",
      "source": [
        "f.integrate((y,-1,y))"
      ],
      "metadata": {
        "colab": {
          "base_uri": "https://localhost:8080/",
          "height": 38
        },
        "id": "v_QCb1Q4TPG2",
        "outputId": "a1ed392c-840a-4c6e-e082-3d3858bc8adf"
      },
      "execution_count": null,
      "outputs": [
        {
          "output_type": "execute_result",
          "data": {
            "text/plain": [
              "y**2 - 1"
            ],
            "text/latex": "$\\displaystyle y^{2} - 1$"
          },
          "metadata": {},
          "execution_count": 943
        }
      ]
    },
    {
      "cell_type": "code",
      "source": [
        "f.integrate((y,-1,x))"
      ],
      "metadata": {
        "colab": {
          "base_uri": "https://localhost:8080/",
          "height": 38
        },
        "id": "iy4-seVUUFUh",
        "outputId": "1daaf43b-1776-47ba-a6c4-b9cafceadc83"
      },
      "execution_count": null,
      "outputs": [
        {
          "output_type": "execute_result",
          "data": {
            "text/plain": [
              "x**2 - 1"
            ],
            "text/latex": "$\\displaystyle x^{2} - 1$"
          },
          "metadata": {},
          "execution_count": 944
        }
      ]
    },
    {
      "cell_type": "code",
      "source": [
        "#Declaración de función\n",
        "\n",
        "f=x**2+6*y**3+2*x*y\n",
        "f"
      ],
      "metadata": {
        "colab": {
          "base_uri": "https://localhost:8080/",
          "height": 38
        },
        "id": "c-XDkNGPUIdL",
        "outputId": "de4cb1ff-cecd-4298-b9ed-d532c1d088ce"
      },
      "execution_count": null,
      "outputs": [
        {
          "output_type": "execute_result",
          "data": {
            "text/plain": [
              "x**2 + 2*x*y + 6*y**3"
            ],
            "text/latex": "$\\displaystyle x^{2} + 2 x y + 6 y^{3}$"
          },
          "metadata": {},
          "execution_count": 945
        }
      ]
    },
    {
      "cell_type": "code",
      "source": [
        "f.integrate(x)"
      ],
      "metadata": {
        "colab": {
          "base_uri": "https://localhost:8080/",
          "height": 54
        },
        "id": "0N0ikPIlURBr",
        "outputId": "af35aa0a-2c09-4c1d-b1bb-2031b7679fcc"
      },
      "execution_count": null,
      "outputs": [
        {
          "output_type": "execute_result",
          "data": {
            "text/plain": [
              "x**3/3 + x**2*y + 6*x*y**3"
            ],
            "text/latex": "$\\displaystyle \\frac{x^{3}}{3} + x^{2} y + 6 x y^{3}$"
          },
          "metadata": {},
          "execution_count": 946
        }
      ]
    },
    {
      "cell_type": "code",
      "source": [
        "f.integrate(y)"
      ],
      "metadata": {
        "colab": {
          "base_uri": "https://localhost:8080/",
          "height": 54
        },
        "id": "mv6v0uRPUWWo",
        "outputId": "e61fad0c-9eb2-4bab-c8cd-dfd23e9d6e19"
      },
      "execution_count": null,
      "outputs": [
        {
          "output_type": "execute_result",
          "data": {
            "text/plain": [
              "x**2*y + x*y**2 + 3*y**4/2"
            ],
            "text/latex": "$\\displaystyle x^{2} y + x y^{2} + \\frac{3 y^{4}}{2}$"
          },
          "metadata": {},
          "execution_count": 947
        }
      ]
    },
    {
      "cell_type": "code",
      "source": [
        "f.integrate(x).integrate(y)"
      ],
      "metadata": {
        "colab": {
          "base_uri": "https://localhost:8080/",
          "height": 54
        },
        "id": "11WdNDt_UbHB",
        "outputId": "660db4e0-f467-4289-a05d-1e105942a1aa"
      },
      "execution_count": null,
      "outputs": [
        {
          "output_type": "execute_result",
          "data": {
            "text/plain": [
              "x**3*y/3 + x**2*y**2/2 + 3*x*y**4/2"
            ],
            "text/latex": "$\\displaystyle \\frac{x^{3} y}{3} + \\frac{x^{2} y^{2}}{2} + \\frac{3 x y^{4}}{2}$"
          },
          "metadata": {},
          "execution_count": 948
        }
      ]
    },
    {
      "cell_type": "code",
      "source": [
        "f.integrate((x,0,2))"
      ],
      "metadata": {
        "colab": {
          "base_uri": "https://localhost:8080/",
          "height": 51
        },
        "id": "co-wycCMUdFA",
        "outputId": "3e685206-d9b4-43eb-a69b-e3ba36551ee2"
      },
      "execution_count": null,
      "outputs": [
        {
          "output_type": "execute_result",
          "data": {
            "text/plain": [
              "12*y**3 + 4*y + 8/3"
            ],
            "text/latex": "$\\displaystyle 12 y^{3} + 4 y + \\frac{8}{3}$"
          },
          "metadata": {},
          "execution_count": 949
        }
      ]
    },
    {
      "cell_type": "code",
      "source": [
        "f.integrate((y,0,2))"
      ],
      "metadata": {
        "colab": {
          "base_uri": "https://localhost:8080/",
          "height": 38
        },
        "id": "bS1LHPtOUhQR",
        "outputId": "1e9335d7-c268-4c1f-c492-c8d0ebbdd4fe"
      },
      "execution_count": null,
      "outputs": [
        {
          "output_type": "execute_result",
          "data": {
            "text/plain": [
              "2*x**2 + 4*x + 24"
            ],
            "text/latex": "$\\displaystyle 2 x^{2} + 4 x + 24$"
          },
          "metadata": {},
          "execution_count": 950
        }
      ]
    },
    {
      "cell_type": "code",
      "source": [
        "f.integrate(x,y)"
      ],
      "metadata": {
        "colab": {
          "base_uri": "https://localhost:8080/",
          "height": 54
        },
        "id": "VrcShnfTWQEx",
        "outputId": "037cf521-89dc-4b68-ddab-97ee5183cdb1"
      },
      "execution_count": null,
      "outputs": [
        {
          "output_type": "execute_result",
          "data": {
            "text/plain": [
              "x**3*y/3 + x**2*y**2/2 + 3*x*y**4/2"
            ],
            "text/latex": "$\\displaystyle \\frac{x^{3} y}{3} + \\frac{x^{2} y^{2}}{2} + \\frac{3 x y^{4}}{2}$"
          },
          "metadata": {},
          "execution_count": 952
        }
      ]
    },
    {
      "cell_type": "code",
      "source": [
        "f.integrate((x,0,2),(y,0,2))"
      ],
      "metadata": {
        "colab": {
          "base_uri": "https://localhost:8080/",
          "height": 51
        },
        "id": "YV8OkrfWUlLo",
        "outputId": "344db5ef-26e6-468a-eaae-b06a9ea772c7"
      },
      "execution_count": null,
      "outputs": [
        {
          "output_type": "execute_result",
          "data": {
            "text/plain": [
              "184/3"
            ],
            "text/latex": "$\\displaystyle \\frac{184}{3}$"
          },
          "metadata": {},
          "execution_count": 953
        }
      ]
    },
    {
      "cell_type": "markdown",
      "source": [
        "# **Substitución y evaluación**"
      ],
      "metadata": {
        "id": "qJ51Jh8YhHK6"
      }
    },
    {
      "cell_type": "code",
      "source": [
        "#Función\n",
        "\n",
        "f=2*x"
      ],
      "metadata": {
        "id": "W1o_AtXHhM0D"
      },
      "execution_count": null,
      "outputs": []
    },
    {
      "cell_type": "code",
      "source": [
        "#Substitución\n",
        "\n",
        "f.subs(x,3)"
      ],
      "metadata": {
        "colab": {
          "base_uri": "https://localhost:8080/",
          "height": 37
        },
        "id": "i1LaEEcAhgpr",
        "outputId": "025c538f-9d51-49df-9f3d-2ee29349b0de"
      },
      "execution_count": null,
      "outputs": [
        {
          "output_type": "execute_result",
          "data": {
            "text/plain": [
              "6"
            ],
            "text/latex": "$\\displaystyle 6$"
          },
          "metadata": {},
          "execution_count": 955
        }
      ]
    },
    {
      "cell_type": "code",
      "source": [
        "#Evaluación de dato númerico\n",
        "\n",
        "f.subs(x,3).evalf()"
      ],
      "metadata": {
        "colab": {
          "base_uri": "https://localhost:8080/",
          "height": 37
        },
        "id": "JkpRDbyyhf-A",
        "outputId": "39f8d99a-b2a9-449b-89f3-272427de5820"
      },
      "execution_count": null,
      "outputs": [
        {
          "output_type": "execute_result",
          "data": {
            "text/plain": [
              "6.00000000000000"
            ],
            "text/latex": "$\\displaystyle 6.0$"
          },
          "metadata": {},
          "execution_count": 956
        }
      ]
    },
    {
      "cell_type": "code",
      "source": [
        "#Función\n",
        "\n",
        "f=2*x*y\n",
        "f"
      ],
      "metadata": {
        "id": "3jmlMtZmizXn",
        "colab": {
          "base_uri": "https://localhost:8080/",
          "height": 38
        },
        "outputId": "bd8f8437-9aa1-4d13-a7eb-a762a5697348"
      },
      "execution_count": null,
      "outputs": [
        {
          "output_type": "execute_result",
          "data": {
            "text/plain": [
              "2*x*y"
            ],
            "text/latex": "$\\displaystyle 2 x y$"
          },
          "metadata": {},
          "execution_count": 958
        }
      ]
    },
    {
      "cell_type": "code",
      "source": [
        "#Substitución\n",
        "\n",
        "f.subs({x:3,y:2})"
      ],
      "metadata": {
        "colab": {
          "base_uri": "https://localhost:8080/",
          "height": 37
        },
        "outputId": "a168e646-4f30-4213-a05d-5f48ff87e897",
        "id": "ORTnKY2Yi1vz"
      },
      "execution_count": null,
      "outputs": [
        {
          "output_type": "execute_result",
          "data": {
            "text/plain": [
              "12"
            ],
            "text/latex": "$\\displaystyle 12$"
          },
          "metadata": {},
          "execution_count": 959
        }
      ]
    },
    {
      "cell_type": "code",
      "source": [
        "#Evaluación de dato númerico\n",
        "\n",
        "f.subs({x:3,y:2}).evalf()"
      ],
      "metadata": {
        "colab": {
          "base_uri": "https://localhost:8080/",
          "height": 37
        },
        "outputId": "cb74bd41-ecac-433d-ef2a-fa326433fc88",
        "id": "udYD3s4Fi1v1"
      },
      "execution_count": null,
      "outputs": [
        {
          "output_type": "execute_result",
          "data": {
            "text/plain": [
              "12.0000000000000"
            ],
            "text/latex": "$\\displaystyle 12.0$"
          },
          "metadata": {},
          "execution_count": 960
        }
      ]
    },
    {
      "cell_type": "markdown",
      "source": [
        "# **Función arbitraria**"
      ],
      "metadata": {
        "id": "O3to1FuTU2IJ"
      }
    },
    {
      "cell_type": "code",
      "source": [
        "#Función\n",
        "\n",
        "f=sp.Function('f')\n",
        "f"
      ],
      "metadata": {
        "colab": {
          "base_uri": "https://localhost:8080/"
        },
        "id": "_N6V9jw2UnFc",
        "outputId": "3c4e8fb5-9547-459b-b42b-3c4538d39d4a"
      },
      "execution_count": null,
      "outputs": [
        {
          "output_type": "execute_result",
          "data": {
            "text/plain": [
              "f"
            ]
          },
          "metadata": {},
          "execution_count": 961
        }
      ]
    },
    {
      "cell_type": "code",
      "source": [
        "#Función\n",
        "\n",
        "f=sp.Function('f')(x)\n",
        "f"
      ],
      "metadata": {
        "colab": {
          "base_uri": "https://localhost:8080/",
          "height": 38
        },
        "outputId": "902cf4d2-5925-4f7a-c940-ef5b2ab055f8",
        "id": "150Hp9rbWygN"
      },
      "execution_count": null,
      "outputs": [
        {
          "output_type": "execute_result",
          "data": {
            "text/plain": [
              "f(x)"
            ],
            "text/latex": "$\\displaystyle f{\\left(x \\right)}$"
          },
          "metadata": {},
          "execution_count": 962
        }
      ]
    },
    {
      "cell_type": "code",
      "source": [
        "#Función\n",
        "\n",
        "f=sp.Function('f')(x,y,z)\n",
        "f"
      ],
      "metadata": {
        "colab": {
          "base_uri": "https://localhost:8080/",
          "height": 38
        },
        "outputId": "329fcf43-822a-4518-ce06-be9d06756ab4",
        "id": "BvIZ0x9OWzsL"
      },
      "execution_count": null,
      "outputs": [
        {
          "output_type": "execute_result",
          "data": {
            "text/plain": [
              "f(x, y, z)"
            ],
            "text/latex": "$\\displaystyle f{\\left(x,y,z \\right)}$"
          },
          "metadata": {},
          "execution_count": 963
        }
      ]
    },
    {
      "cell_type": "code",
      "source": [
        "#Función\n",
        "\n",
        "f=sp.Function('f')(x)\n",
        "\n",
        "#Ecuación\n",
        "eqd=sp.Eq(f.diff(x)-3*f,2)\n",
        "\n",
        "eqd"
      ],
      "metadata": {
        "colab": {
          "base_uri": "https://localhost:8080/",
          "height": 52
        },
        "id": "yW8XNNQNW1th",
        "outputId": "3ec1cc73-69ba-4b27-def2-4b1fd4fbcab4"
      },
      "execution_count": null,
      "outputs": [
        {
          "output_type": "execute_result",
          "data": {
            "text/plain": [
              "Eq(-3*f(x) + Derivative(f(x), x), 2)"
            ],
            "text/latex": "$\\displaystyle - 3 f{\\left(x \\right)} + \\frac{d}{d x} f{\\left(x \\right)} = 2$"
          },
          "metadata": {},
          "execution_count": 966
        }
      ]
    },
    {
      "cell_type": "code",
      "source": [
        "#Solución\n",
        "\n",
        "f=sp.dsolve(eqd,f)\n",
        "f"
      ],
      "metadata": {
        "colab": {
          "base_uri": "https://localhost:8080/",
          "height": 54
        },
        "id": "ZWQrk62_YVHx",
        "outputId": "f5b07809-e04f-42d5-9a4f-20a530a42bb1"
      },
      "execution_count": null,
      "outputs": [
        {
          "output_type": "execute_result",
          "data": {
            "text/plain": [
              "Eq(f(x), C1*exp(3*x)/3 - 2/3)"
            ],
            "text/latex": "$\\displaystyle f{\\left(x \\right)} = \\frac{C_{1} e^{3 x}}{3} - \\frac{2}{3}$"
          },
          "metadata": {},
          "execution_count": 967
        }
      ]
    },
    {
      "cell_type": "code",
      "source": [
        "#Condicion inicial f(0)=4\n",
        "\n",
        "C1=sp.Symbol('C1')\n",
        "\n",
        "f0=f.rhs.subs(x,0)\n",
        "f0"
      ],
      "metadata": {
        "colab": {
          "base_uri": "https://localhost:8080/",
          "height": 52
        },
        "id": "w4aK0jlmYeE_",
        "outputId": "69f5c09f-d99a-4f17-d6aa-579f5d58b8f5"
      },
      "execution_count": null,
      "outputs": [
        {
          "output_type": "execute_result",
          "data": {
            "text/plain": [
              "C1/3 - 2/3"
            ],
            "text/latex": "$\\displaystyle \\frac{C_{1}}{3} - \\frac{2}{3}$"
          },
          "metadata": {},
          "execution_count": 968
        }
      ]
    },
    {
      "cell_type": "code",
      "source": [
        "eq=sp.Eq(f0,4)\n",
        "eq"
      ],
      "metadata": {
        "colab": {
          "base_uri": "https://localhost:8080/",
          "height": 52
        },
        "id": "-0AcULJkfRg2",
        "outputId": "e31562f3-d065-4e4a-c65f-6ea8c4d6fbf7"
      },
      "execution_count": null,
      "outputs": [
        {
          "output_type": "execute_result",
          "data": {
            "text/plain": [
              "Eq(C1/3 - 2/3, 4)"
            ],
            "text/latex": "$\\displaystyle \\frac{C_{1}}{3} - \\frac{2}{3} = 4$"
          },
          "metadata": {},
          "execution_count": 969
        }
      ]
    },
    {
      "cell_type": "code",
      "source": [
        "C1v=sp.solve(eq,C1)[0]\n",
        "C1v"
      ],
      "metadata": {
        "colab": {
          "base_uri": "https://localhost:8080/",
          "height": 37
        },
        "id": "BV_QT8bRf3cv",
        "outputId": "3c92084a-e410-4726-afcd-2fafd5bff35b"
      },
      "execution_count": null,
      "outputs": [
        {
          "output_type": "execute_result",
          "data": {
            "text/plain": [
              "14"
            ],
            "text/latex": "$\\displaystyle 14$"
          },
          "metadata": {},
          "execution_count": 970
        }
      ]
    },
    {
      "cell_type": "code",
      "source": [
        "f=f.rhs.subs(C1,C1v)\n",
        "f"
      ],
      "metadata": {
        "colab": {
          "base_uri": "https://localhost:8080/",
          "height": 54
        },
        "id": "r1IpEgRygOUJ",
        "outputId": "fc3d5eb0-7c4b-4e4b-cc48-6e722b6d1940"
      },
      "execution_count": null,
      "outputs": [
        {
          "output_type": "execute_result",
          "data": {
            "text/plain": [
              "14*exp(3*x)/3 - 2/3"
            ],
            "text/latex": "$\\displaystyle \\frac{14 e^{3 x}}{3} - \\frac{2}{3}$"
          },
          "metadata": {},
          "execution_count": 971
        }
      ]
    },
    {
      "cell_type": "markdown",
      "source": [
        "# **Funciones númericas**"
      ],
      "metadata": {
        "id": "l3ZGrmZjj3K3"
      }
    },
    {
      "cell_type": "code",
      "source": [
        "#Función\n",
        "\n",
        "f=2*x\n",
        "f"
      ],
      "metadata": {
        "colab": {
          "base_uri": "https://localhost:8080/",
          "height": 38
        },
        "id": "_wrgPheqj6k1",
        "outputId": "bcda3023-2412-4ccb-f6ee-5e47a2043e12"
      },
      "execution_count": null,
      "outputs": [
        {
          "output_type": "execute_result",
          "data": {
            "text/plain": [
              "2*x"
            ],
            "text/latex": "$\\displaystyle 2 x$"
          },
          "metadata": {},
          "execution_count": 972
        }
      ]
    },
    {
      "cell_type": "code",
      "source": [
        "#Función númerica\n",
        "\n",
        "F=sp.lambdify(x,f)"
      ],
      "metadata": {
        "id": "Wyn-pY39kurQ"
      },
      "execution_count": null,
      "outputs": []
    },
    {
      "cell_type": "code",
      "source": [
        "F(3)"
      ],
      "metadata": {
        "colab": {
          "base_uri": "https://localhost:8080/"
        },
        "id": "lkFyEUctlA1E",
        "outputId": "4c04dd50-3d8d-43d0-f557-ba84e4ce8aca"
      },
      "execution_count": null,
      "outputs": [
        {
          "output_type": "execute_result",
          "data": {
            "text/plain": [
              "6"
            ]
          },
          "metadata": {},
          "execution_count": 974
        }
      ]
    },
    {
      "cell_type": "code",
      "source": [
        "#Función\n",
        "\n",
        "f=2*x+3*y\n",
        "f"
      ],
      "metadata": {
        "colab": {
          "base_uri": "https://localhost:8080/",
          "height": 38
        },
        "outputId": "8abe23b5-65f1-4dc2-ddad-026f3c2b224b",
        "id": "jKP2oyzjlUaR"
      },
      "execution_count": null,
      "outputs": [
        {
          "output_type": "execute_result",
          "data": {
            "text/plain": [
              "2*x + 3*y"
            ],
            "text/latex": "$\\displaystyle 2 x + 3 y$"
          },
          "metadata": {},
          "execution_count": 975
        }
      ]
    },
    {
      "cell_type": "code",
      "source": [
        "#Función númerica\n",
        "\n",
        "F=sp.lambdify([x,y],f)"
      ],
      "metadata": {
        "id": "nYvtX7y-lUaR"
      },
      "execution_count": null,
      "outputs": []
    },
    {
      "cell_type": "code",
      "source": [
        "F(3,2)"
      ],
      "metadata": {
        "colab": {
          "base_uri": "https://localhost:8080/"
        },
        "outputId": "b648a75c-2576-4342-fce9-f93b4a802a80",
        "id": "RzGiRfGHlUaS"
      },
      "execution_count": null,
      "outputs": [
        {
          "output_type": "execute_result",
          "data": {
            "text/plain": [
              "12"
            ]
          },
          "metadata": {},
          "execution_count": 977
        }
      ]
    },
    {
      "cell_type": "code",
      "source": [
        "#Entrada de arreglo Numpy\n",
        "\n",
        "import numpy as np"
      ],
      "metadata": {
        "id": "IjhdriCylB5B"
      },
      "execution_count": null,
      "outputs": []
    },
    {
      "cell_type": "code",
      "source": [
        "#Función\n",
        "\n",
        "f=2*x\n",
        "f"
      ],
      "metadata": {
        "colab": {
          "base_uri": "https://localhost:8080/",
          "height": 38
        },
        "outputId": "09896bb5-f655-470c-ed67-5d912750b7dd",
        "id": "fpYAu7xxl5QB"
      },
      "execution_count": null,
      "outputs": [
        {
          "output_type": "execute_result",
          "data": {
            "text/plain": [
              "2*x"
            ],
            "text/latex": "$\\displaystyle 2 x$"
          },
          "metadata": {},
          "execution_count": 979
        }
      ]
    },
    {
      "cell_type": "code",
      "source": [
        "#Función númerica\n",
        "\n",
        "F=sp.lambdify(x,f,np)"
      ],
      "metadata": {
        "id": "ZGA8q1ALl5QC"
      },
      "execution_count": null,
      "outputs": []
    },
    {
      "cell_type": "code",
      "source": [
        "nx=np.linspace(0,10)\n",
        "\n",
        "F(nx)"
      ],
      "metadata": {
        "colab": {
          "base_uri": "https://localhost:8080/"
        },
        "outputId": "2d04c054-35aa-4f5f-bf1f-d69d413e1ce7",
        "id": "fa8PdYoJl5QD"
      },
      "execution_count": null,
      "outputs": [
        {
          "output_type": "execute_result",
          "data": {
            "text/plain": [
              "array([ 0.        ,  0.40816327,  0.81632653,  1.2244898 ,  1.63265306,\n",
              "        2.04081633,  2.44897959,  2.85714286,  3.26530612,  3.67346939,\n",
              "        4.08163265,  4.48979592,  4.89795918,  5.30612245,  5.71428571,\n",
              "        6.12244898,  6.53061224,  6.93877551,  7.34693878,  7.75510204,\n",
              "        8.16326531,  8.57142857,  8.97959184,  9.3877551 ,  9.79591837,\n",
              "       10.20408163, 10.6122449 , 11.02040816, 11.42857143, 11.83673469,\n",
              "       12.24489796, 12.65306122, 13.06122449, 13.46938776, 13.87755102,\n",
              "       14.28571429, 14.69387755, 15.10204082, 15.51020408, 15.91836735,\n",
              "       16.32653061, 16.73469388, 17.14285714, 17.55102041, 17.95918367,\n",
              "       18.36734694, 18.7755102 , 19.18367347, 19.59183673, 20.        ])"
            ]
          },
          "metadata": {},
          "execution_count": 981
        }
      ]
    },
    {
      "cell_type": "markdown",
      "source": [
        "# **Ejercicio de ejemplo**"
      ],
      "metadata": {
        "id": "aFYsk1rNmeyo"
      }
    },
    {
      "cell_type": "code",
      "source": [
        "#Oscilador armonico\n",
        "\n",
        "t=sp.Symbol('t')\n",
        "x=sp.Function('x')(t)\n",
        "x"
      ],
      "metadata": {
        "colab": {
          "base_uri": "https://localhost:8080/",
          "height": 38
        },
        "id": "E9tU-4EMzzn0",
        "outputId": "d6329c8d-a0d4-42e8-a199-8183ba3e82f6"
      },
      "execution_count": null,
      "outputs": [
        {
          "output_type": "execute_result",
          "data": {
            "text/plain": [
              "x(t)"
            ],
            "text/latex": "$\\displaystyle x{\\left(t \\right)}$"
          },
          "metadata": {},
          "execution_count": 982
        }
      ]
    },
    {
      "cell_type": "code",
      "source": [
        "q=sp.Symbol('q')\n",
        "\n",
        "eqd=sp.Eq(x.diff(t,2)+q*x,0)\n",
        "eqd"
      ],
      "metadata": {
        "colab": {
          "base_uri": "https://localhost:8080/",
          "height": 54
        },
        "id": "TfP63HD90BCU",
        "outputId": "515d1a13-013b-4fbc-a5d5-0a4fce2e3199"
      },
      "execution_count": null,
      "outputs": [
        {
          "output_type": "execute_result",
          "data": {
            "text/plain": [
              "Eq(q*x(t) + Derivative(x(t), (t, 2)), 0)"
            ],
            "text/latex": "$\\displaystyle q x{\\left(t \\right)} + \\frac{d^{2}}{d t^{2}} x{\\left(t \\right)} = 0$"
          },
          "metadata": {},
          "execution_count": 983
        }
      ]
    },
    {
      "cell_type": "code",
      "source": [
        "xs=sp.dsolve(eqd,x).rhs\n",
        "xs"
      ],
      "metadata": {
        "colab": {
          "base_uri": "https://localhost:8080/",
          "height": 40
        },
        "id": "XpvBz0NQ0iTM",
        "outputId": "0d92ea96-d992-4984-b1a8-4361e35ab1e7"
      },
      "execution_count": null,
      "outputs": [
        {
          "output_type": "execute_result",
          "data": {
            "text/plain": [
              "C1*exp(-t*sqrt(-q)) + C2*exp(t*sqrt(-q))"
            ],
            "text/latex": "$\\displaystyle C_{1} e^{- t \\sqrt{- q}} + C_{2} e^{t \\sqrt{- q}}$"
          },
          "metadata": {},
          "execution_count": 984
        }
      ]
    },
    {
      "cell_type": "code",
      "source": [
        "v=xs.diff(t)\n",
        "v"
      ],
      "metadata": {
        "colab": {
          "base_uri": "https://localhost:8080/",
          "height": 40
        },
        "id": "YvyNTmcl16zX",
        "outputId": "6bf92417-2bb7-40a7-dca4-9b4e1c8427b6"
      },
      "execution_count": null,
      "outputs": [
        {
          "output_type": "execute_result",
          "data": {
            "text/plain": [
              "-C1*sqrt(-q)*exp(-t*sqrt(-q)) + C2*sqrt(-q)*exp(t*sqrt(-q))"
            ],
            "text/latex": "$\\displaystyle - C_{1} \\sqrt{- q} e^{- t \\sqrt{- q}} + C_{2} \\sqrt{- q} e^{t \\sqrt{- q}}$"
          },
          "metadata": {},
          "execution_count": 985
        }
      ]
    },
    {
      "cell_type": "code",
      "source": [
        "#Condición inicial v(0)=0\n",
        "\n",
        "eq=sp.Eq(v.subs(t,0),0)\n",
        "eq"
      ],
      "metadata": {
        "colab": {
          "base_uri": "https://localhost:8080/",
          "height": 38
        },
        "id": "5RebTeq_16wq",
        "outputId": "d95c2048-360f-4b93-f730-c7f2adac1d92"
      },
      "execution_count": null,
      "outputs": [
        {
          "output_type": "execute_result",
          "data": {
            "text/plain": [
              "Eq(-C1*sqrt(-q) + C2*sqrt(-q), 0)"
            ],
            "text/latex": "$\\displaystyle - C_{1} \\sqrt{- q} + C_{2} \\sqrt{- q} = 0$"
          },
          "metadata": {},
          "execution_count": 986
        }
      ]
    },
    {
      "cell_type": "code",
      "source": [
        "C2=sp.Symbol('C2')"
      ],
      "metadata": {
        "id": "ijPM8Kcv16td"
      },
      "execution_count": null,
      "outputs": []
    },
    {
      "cell_type": "code",
      "source": [
        "C2s=sp.solve(eq,C2)[0]\n",
        "C2s"
      ],
      "metadata": {
        "colab": {
          "base_uri": "https://localhost:8080/",
          "height": 38
        },
        "id": "hVjndU7W16qp",
        "outputId": "26bfd74e-aa49-4d83-b13e-7860e72887ac"
      },
      "execution_count": null,
      "outputs": [
        {
          "output_type": "execute_result",
          "data": {
            "text/plain": [
              "C1"
            ],
            "text/latex": "$\\displaystyle C_{1}$"
          },
          "metadata": {},
          "execution_count": 988
        }
      ]
    },
    {
      "cell_type": "code",
      "source": [
        "xs=xs.subs(C2,C2s)\n",
        "xs"
      ],
      "metadata": {
        "colab": {
          "base_uri": "https://localhost:8080/",
          "height": 40
        },
        "id": "GQXZe6YI1Z1y",
        "outputId": "b5a6bdfe-3826-40de-b843-d012e4a64838"
      },
      "execution_count": null,
      "outputs": [
        {
          "output_type": "execute_result",
          "data": {
            "text/plain": [
              "C1*exp(t*sqrt(-q)) + C1*exp(-t*sqrt(-q))"
            ],
            "text/latex": "$\\displaystyle C_{1} e^{t \\sqrt{- q}} + C_{1} e^{- t \\sqrt{- q}}$"
          },
          "metadata": {},
          "execution_count": 989
        }
      ]
    },
    {
      "cell_type": "code",
      "source": [
        "#Condicion inicial x(0)=x0\n",
        "\n",
        "x0=sp.Symbol('x0')\n",
        "\n",
        "eq=sp.Eq(xs.subs(t,0),x0)\n",
        "eq"
      ],
      "metadata": {
        "colab": {
          "base_uri": "https://localhost:8080/",
          "height": 38
        },
        "id": "YeUH4RGq1msw",
        "outputId": "a5fc368b-c2ca-4c20-e5d4-2288cb48f63d"
      },
      "execution_count": null,
      "outputs": [
        {
          "output_type": "execute_result",
          "data": {
            "text/plain": [
              "Eq(2*C1, x0)"
            ],
            "text/latex": "$\\displaystyle 2 C_{1} = x_{0}$"
          },
          "metadata": {},
          "execution_count": 990
        }
      ]
    },
    {
      "cell_type": "code",
      "source": [
        "C1=sp.Symbol('C1')"
      ],
      "metadata": {
        "id": "l7KCkdiW31Zx"
      },
      "execution_count": null,
      "outputs": []
    },
    {
      "cell_type": "code",
      "source": [
        "C1s=sp.solve(eq,C1)[0]\n",
        "C1s"
      ],
      "metadata": {
        "colab": {
          "base_uri": "https://localhost:8080/",
          "height": 47
        },
        "outputId": "39683619-3570-47c0-fef3-7581fd37f5bd",
        "id": "HJ_BYGGo31Z1"
      },
      "execution_count": null,
      "outputs": [
        {
          "output_type": "execute_result",
          "data": {
            "text/plain": [
              "x0/2"
            ],
            "text/latex": "$\\displaystyle \\frac{x_{0}}{2}$"
          },
          "metadata": {},
          "execution_count": 993
        }
      ]
    },
    {
      "cell_type": "code",
      "source": [
        "xs=xs.subs(C1,C1s)\n",
        "xs"
      ],
      "metadata": {
        "colab": {
          "base_uri": "https://localhost:8080/",
          "height": 56
        },
        "outputId": "e9085b6c-691e-483a-f872-d5576ffb8a91",
        "id": "QZaxFcLh31Z2"
      },
      "execution_count": null,
      "outputs": [
        {
          "output_type": "execute_result",
          "data": {
            "text/plain": [
              "x0*exp(t*sqrt(-q))/2 + x0*exp(-t*sqrt(-q))/2"
            ],
            "text/latex": "$\\displaystyle \\frac{x_{0} e^{t \\sqrt{- q}}}{2} + \\frac{x_{0} e^{- t \\sqrt{- q}}}{2}$"
          },
          "metadata": {},
          "execution_count": 994
        }
      ]
    },
    {
      "cell_type": "markdown",
      "source": [
        "# **Aplicar parametros**\n",
        "\n",
        "$q=5\\quad,\\quad x_0=4$"
      ],
      "metadata": {
        "id": "4p7mYg404L1o"
      }
    },
    {
      "cell_type": "code",
      "source": [
        "xs=xs.subs({x0:4,q:5})\n",
        "xs"
      ],
      "metadata": {
        "colab": {
          "base_uri": "https://localhost:8080/",
          "height": 41
        },
        "id": "7MW6T08T1pDS",
        "outputId": "51f0f9f3-c442-4b0f-8e99-e5f656acbbb3"
      },
      "execution_count": null,
      "outputs": [
        {
          "output_type": "execute_result",
          "data": {
            "text/plain": [
              "2*exp(sqrt(5)*I*t) + 2*exp(-sqrt(5)*I*t)"
            ],
            "text/latex": "$\\displaystyle 2 e^{\\sqrt{5} i t} + 2 e^{- \\sqrt{5} i t}$"
          },
          "metadata": {},
          "execution_count": 995
        }
      ]
    },
    {
      "cell_type": "code",
      "source": [
        "xs=xs.simplify()\n",
        "xs"
      ],
      "metadata": {
        "colab": {
          "base_uri": "https://localhost:8080/",
          "height": 47
        },
        "id": "R_7YVBt74BTm",
        "outputId": "4b3a192a-18e6-4a25-b1f0-ad6d31130397"
      },
      "execution_count": null,
      "outputs": [
        {
          "output_type": "execute_result",
          "data": {
            "text/plain": [
              "4*cos(sqrt(5)*t)"
            ],
            "text/latex": "$\\displaystyle 4 \\cos{\\left(\\sqrt{5} t \\right)}$"
          },
          "metadata": {},
          "execution_count": 996
        }
      ]
    },
    {
      "cell_type": "code",
      "source": [
        "import numpy as np\n",
        "\n",
        "#Función numérica\n",
        "\n",
        "x=sp.lambdify(t,xs,np)"
      ],
      "metadata": {
        "id": "lZfEzWP74FJR"
      },
      "execution_count": null,
      "outputs": []
    },
    {
      "cell_type": "code",
      "source": [
        "import matplotlib.pyplot as plt\n",
        "\n",
        "t=np.linspace(0,10,100)\n",
        "plt.plot(t,x(t))"
      ],
      "metadata": {
        "colab": {
          "base_uri": "https://localhost:8080/",
          "height": 282
        },
        "id": "x-hZwzwj40O3",
        "outputId": "5cd11b41-5951-4d59-f5d0-e4f1ced524ae"
      },
      "execution_count": null,
      "outputs": [
        {
          "output_type": "execute_result",
          "data": {
            "text/plain": [
              "[<matplotlib.lines.Line2D at 0x7fbd37885820>]"
            ]
          },
          "metadata": {},
          "execution_count": 998
        },
        {
          "output_type": "display_data",
          "data": {
            "text/plain": [
              "<Figure size 432x288 with 1 Axes>"
            ],
            "image/png": "[encoded data removed]"
          },
          "metadata": {
            "needs_background": "light"
          }
        }
      ]
    },
    {
      "cell_type": "code",
      "source": [],
      "metadata": {
        "id": "qeM19t9Q5v9B"
      },
      "execution_count": null,
      "outputs": []
    }
  ]
}